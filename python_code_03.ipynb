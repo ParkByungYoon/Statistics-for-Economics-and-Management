{
 "cells": [
  {
   "cell_type": "markdown",
   "id": "247d435a",
   "metadata": {},
   "source": [
    "## Import Modules"
   ]
  },
  {
   "cell_type": "code",
   "execution_count": 1,
   "id": "d4316f03",
   "metadata": {},
   "outputs": [],
   "source": [
    "import numpy as np\n",
    "import pandas as pd\n",
    "import matplotlib.pyplot as plt"
   ]
  },
  {
   "cell_type": "code",
   "execution_count": 2,
   "id": "abe67fa4",
   "metadata": {},
   "outputs": [
    {
     "data": {
      "text/html": [
       "<div>\n",
       "<style scoped>\n",
       "    .dataframe tbody tr th:only-of-type {\n",
       "        vertical-align: middle;\n",
       "    }\n",
       "\n",
       "    .dataframe tbody tr th {\n",
       "        vertical-align: top;\n",
       "    }\n",
       "\n",
       "    .dataframe thead th {\n",
       "        text-align: right;\n",
       "    }\n",
       "</style>\n",
       "<table border=\"1\" class=\"dataframe\">\n",
       "  <thead>\n",
       "    <tr style=\"text-align: right;\">\n",
       "      <th></th>\n",
       "      <th>Correct</th>\n",
       "    </tr>\n",
       "  </thead>\n",
       "  <tbody>\n",
       "    <tr>\n",
       "      <th>0</th>\n",
       "      <td>112</td>\n",
       "    </tr>\n",
       "    <tr>\n",
       "      <th>1</th>\n",
       "      <td>73</td>\n",
       "    </tr>\n",
       "    <tr>\n",
       "      <th>2</th>\n",
       "      <td>126</td>\n",
       "    </tr>\n",
       "    <tr>\n",
       "      <th>3</th>\n",
       "      <td>82</td>\n",
       "    </tr>\n",
       "    <tr>\n",
       "      <th>4</th>\n",
       "      <td>92</td>\n",
       "    </tr>\n",
       "  </tbody>\n",
       "</table>\n",
       "</div>"
      ],
      "text/plain": [
       "   Correct\n",
       "0      112\n",
       "1       73\n",
       "2      126\n",
       "3       82\n",
       "4       92"
      ]
     },
     "execution_count": 2,
     "metadata": {},
     "output_type": "execute_result"
    }
   ],
   "source": [
    "ap_data = pd.read_excel('./ApTest.xlsx')\n",
    "ap_data.head()"
   ]
  },
  {
   "cell_type": "markdown",
   "id": "e22c40d7",
   "metadata": {},
   "source": [
    "# 1. Measures of Location"
   ]
  },
  {
   "cell_type": "markdown",
   "id": "0961c810",
   "metadata": {},
   "source": [
    "## 1-1. Mean"
   ]
  },
  {
   "cell_type": "markdown",
   "id": "064d4640",
   "metadata": {},
   "source": [
    "✅ **pandas.DataFrame.mean**\n",
    "\n",
    "- Return the mean of the values over the requested axis.\n",
    "- https://pandas.pydata.org/docs/reference/api/pandas.DataFrame.mean.html"
   ]
  },
  {
   "cell_type": "markdown",
   "id": "b4fd8ab0",
   "metadata": {},
   "source": [
    "## $\\bar x = {\\sum x_i \\over n}$\n",
    "\n",
    "$\\sum x_i$ : Sum of the values of the n observations\n",
    "\n",
    "$n$ : Number of observations in the sample"
   ]
  },
  {
   "cell_type": "markdown",
   "id": "8a750d71",
   "metadata": {},
   "source": [
    "Most of the measures are provided by dataframe, but we're going to get the measures in two ways(✍, 🤖)."
   ]
  },
  {
   "cell_type": "code",
   "execution_count": 3,
   "id": "3df8e91e",
   "metadata": {},
   "outputs": [
    {
     "name": "stdout",
     "output_type": "stream",
     "text": [
      "✍ Mean = 98.92\n"
     ]
    }
   ],
   "source": [
    "n = len(ap_data[\"Correct\"])\n",
    "sum_x = sum(ap_data[\"Correct\"])\n",
    "mean_x = sum_x / n\n",
    "\n",
    "print(f'✍ Mean = {mean_x}')"
   ]
  },
  {
   "cell_type": "code",
   "execution_count": 4,
   "id": "e4bbe18f",
   "metadata": {},
   "outputs": [
    {
     "name": "stdout",
     "output_type": "stream",
     "text": [
      "🤖 Mean = 98.92\n"
     ]
    }
   ],
   "source": [
    "mean_x = ap_data[\"Correct\"].mean() # ✅ pandas.DataFrame.mean\n",
    "\n",
    "print(f'🤖 Mean = {mean_x}')"
   ]
  },
  {
   "cell_type": "markdown",
   "id": "9df0cdae",
   "metadata": {},
   "source": [
    "## 1-2. Median"
   ]
  },
  {
   "cell_type": "markdown",
   "id": "941c7f37",
   "metadata": {},
   "source": [
    "✅ **pandas.DataFrame.sort_values**\n",
    "\n",
    "- Sort by the values along either axis.\n",
    "- https://pandas.pydata.org/docs/reference/api/pandas.DataFrame.sort_values.html\n",
    "\n",
    "✅ **pandas.DataFrame.reset_index**\n",
    "\n",
    "- Reset the index of the DataFrame.\n",
    "- https://pandas.pydata.org/docs/reference/api/pandas.DataFrame.reset_index.html\n",
    "\n",
    "✅ **pandas.DataFrame.median**\n",
    "\n",
    "- Return the median of the values over the requested axis.\n",
    "- https://pandas.pydata.org/docs/reference/api/pandas.DataFrame.median.html"
   ]
  },
  {
   "cell_type": "code",
   "execution_count": 5,
   "id": "f2b7c2a4",
   "metadata": {},
   "outputs": [
    {
     "data": {
      "text/plain": [
       "0    68\n",
       "1    69\n",
       "2    72\n",
       "3    73\n",
       "4    73\n",
       "Name: Correct, dtype: int64"
      ]
     },
     "execution_count": 5,
     "metadata": {},
     "output_type": "execute_result"
    }
   ],
   "source": [
    "# To get the median, sort the data in ascending order.\n",
    "sorted_data = ap_data[\"Correct\"].sort_values().reset_index(drop=True) # ✅ pandas.DataFrame.reset_index ✅ pandas.DataFrame.sort_values\n",
    "sorted_data.head()"
   ]
  },
  {
   "cell_type": "code",
   "execution_count": 6,
   "id": "96378833",
   "metadata": {},
   "outputs": [
    {
     "name": "stdout",
     "output_type": "stream",
     "text": [
      "✍ Median = 97.5\n"
     ]
    }
   ],
   "source": [
    "# n/2 position means middle point of the dataset whose len is n.\n",
    "# For this reason, we can get the median of dataset by accessing (n/2)th data in sorted data.\n",
    "median_x = (sorted_data[n/2-1] + sorted_data[n/2]) / 2\n",
    "print(f'✍ Median = {median_x}')"
   ]
  },
  {
   "cell_type": "code",
   "execution_count": 7,
   "id": "9dc81d7c",
   "metadata": {},
   "outputs": [
    {
     "name": "stdout",
     "output_type": "stream",
     "text": [
      "🤖 Median = 97.5\n"
     ]
    }
   ],
   "source": [
    "median_x = ap_data[\"Correct\"].median() # ✅ pandas.DataFrame.median\n",
    "print(f'🤖 Median = {median_x}')"
   ]
  },
  {
   "cell_type": "markdown",
   "id": "c1cd32ca",
   "metadata": {},
   "source": [
    "## 1-3. Mode"
   ]
  },
  {
   "cell_type": "markdown",
   "id": "a86cd650",
   "metadata": {},
   "source": [
    "✅ **pandas.DataFrame.mode**\n",
    "\n",
    "- Get the mode(s) of each element along the selected axis.\n",
    "- https://pandas.pydata.org/docs/reference/api/pandas.DataFrame.mode.html"
   ]
  },
  {
   "cell_type": "code",
   "execution_count": 8,
   "id": "40619ab4",
   "metadata": {},
   "outputs": [
    {
     "data": {
      "text/plain": [
       "92     3\n",
       "106    3\n",
       "81     2\n",
       "76     2\n",
       "115    2\n",
       "Name: Correct, dtype: int64"
      ]
     },
     "execution_count": 8,
     "metadata": {},
     "output_type": "execute_result"
    }
   ],
   "source": [
    "# We can check the frequency of the data by using value_counts.\n",
    "ap_data[\"Correct\"].value_counts().head()"
   ]
  },
  {
   "cell_type": "code",
   "execution_count": 9,
   "id": "51c8b27c",
   "metadata": {},
   "outputs": [
    {
     "data": {
      "text/plain": [
       "0     92\n",
       "1    106\n",
       "Name: Correct, dtype: int64"
      ]
     },
     "execution_count": 9,
     "metadata": {},
     "output_type": "execute_result"
    }
   ],
   "source": [
    "ap_data[\"Correct\"].mode() # ✅ pandas.DataFrame.mode"
   ]
  },
  {
   "cell_type": "markdown",
   "id": "24d8a490",
   "metadata": {},
   "source": [
    "## 1-4. Percentiles (20th and 80th)"
   ]
  },
  {
   "cell_type": "markdown",
   "id": "5dbc2f74",
   "metadata": {},
   "source": [
    "✅ **pandas.DataFrame.quantile**\n",
    "\n",
    "- Return values at the given quantile over requested axis.\n",
    "- https://pandas.pydata.org/docs/reference/api/pandas.DataFrame.quantile.html"
   ]
  },
  {
   "cell_type": "markdown",
   "id": "356a41ef",
   "metadata": {},
   "source": [
    "We can compute index i, the position of the pth percentile, as follows:\n",
    "\n",
    "### $ i = (p/100)n $"
   ]
  },
  {
   "cell_type": "code",
   "execution_count": 10,
   "id": "557b9da1",
   "metadata": {},
   "outputs": [],
   "source": [
    "def get_percentile(data, p):\n",
    "    n = len(data)\n",
    "    i = (p/100) * n \n",
    "    if int(i) == i:\n",
    "        # If i is an integer, the pth percentile is the average of the values in positions i and i+1.\n",
    "        pct = (data[i-1] + data[i]) / 2\n",
    "    else :\n",
    "        # If i is not an integer, round up.\n",
    "        i = int(i+0.5)\n",
    "        # The pth percentile is the value in the ith position.\n",
    "        pct = data[i-1]\n",
    "    return pct"
   ]
  },
  {
   "cell_type": "markdown",
   "id": "9fc0990e",
   "metadata": {},
   "source": [
    "The positionon of the $20^{th} Percentile = (20/100)50 = 10$"
   ]
  },
  {
   "cell_type": "code",
   "execution_count": 11,
   "id": "a49cb5f5",
   "metadata": {},
   "outputs": [
    {
     "name": "stdout",
     "output_type": "stream",
     "text": [
      "✍ 20th Percentile = 81.0\n"
     ]
    }
   ],
   "source": [
    "pct = get_percentile(sorted_data, 20)\n",
    "print(f'✍ 20th Percentile = {pct}')"
   ]
  },
  {
   "cell_type": "code",
   "execution_count": 12,
   "id": "cd5001d7",
   "metadata": {},
   "outputs": [
    {
     "name": "stdout",
     "output_type": "stream",
     "text": [
      "🤖 20th Percentile = 81.0\n"
     ]
    }
   ],
   "source": [
    "# If the positionon of the nth percentile is an integer, the average of the values in positions i and i+1 should be calculated.\n",
    "# Therefore, when i is an integer, we have to set interpolation method to 'midpoint'.\n",
    "# When the desired quantile lies between two data points i and j, 'midpoint' method use (i + j) / 2.\n",
    "pct = ap_data[\"Correct\"].quantile(0.2, interpolation='midpoint') # ✅ pandas.DataFrame.quantile\n",
    "print(f'🤖 20th Percentile = {pct}')"
   ]
  },
  {
   "cell_type": "markdown",
   "id": "e3e95248",
   "metadata": {},
   "source": [
    "The positionon of the $80^{th} Percentile = (80/100)50 = 40$"
   ]
  },
  {
   "cell_type": "code",
   "execution_count": 13,
   "id": "9c84e264",
   "metadata": {},
   "outputs": [
    {
     "name": "stdout",
     "output_type": "stream",
     "text": [
      "✍ 80th Percentile = 116.5\n"
     ]
    }
   ],
   "source": [
    "pct = get_percentile(sorted_data, 80)\n",
    "print(f'✍ 80th Percentile = {pct}')"
   ]
  },
  {
   "cell_type": "code",
   "execution_count": 14,
   "id": "32a0cc16",
   "metadata": {},
   "outputs": [
    {
     "name": "stdout",
     "output_type": "stream",
     "text": [
      "🤖 80th Percentile = 116.5\n"
     ]
    }
   ],
   "source": [
    "pct = ap_data[\"Correct\"].quantile(0.8, interpolation='midpoint')\n",
    "print(f'🤖 80th Percentile = {pct}')"
   ]
  },
  {
   "cell_type": "markdown",
   "id": "1fd0cbfc",
   "metadata": {},
   "source": [
    "## 1-5. Quartiles (1st, 2nd, and 3rd)"
   ]
  },
  {
   "cell_type": "markdown",
   "id": "622d6e6e",
   "metadata": {},
   "source": [
    "### 1st Quartile"
   ]
  },
  {
   "cell_type": "markdown",
   "id": "3cdfd488",
   "metadata": {},
   "source": [
    "The positionon of the $25^{th} Percentile = (25/100)50 = 12.5 = 13$"
   ]
  },
  {
   "cell_type": "code",
   "execution_count": 15,
   "id": "830cbfb7",
   "metadata": {},
   "outputs": [
    {
     "name": "stdout",
     "output_type": "stream",
     "text": [
      "✍ 25th Percentile = 83\n"
     ]
    }
   ],
   "source": [
    "pct = get_percentile(sorted_data, 25)\n",
    "print(f'✍ 25th Percentile = {pct}')"
   ]
  },
  {
   "cell_type": "code",
   "execution_count": 16,
   "id": "a7772e5b",
   "metadata": {},
   "outputs": [
    {
     "name": "stdout",
     "output_type": "stream",
     "text": [
      "🤖 25th Percentile = 83\n"
     ]
    }
   ],
   "source": [
    "# If the positionon of the nth percentile is not an integer, the decimal should be rounded up.\n",
    "# In order to round the decimal up, we have to set interpolation method to 'nearest'.\n",
    "# When the desired quantile lies between two data points i and j, 'nearest' method use i or j whichever is nearest.\n",
    "pct = ap_data[\"Correct\"].quantile(0.25, interpolation='nearest')\n",
    "print(f'🤖 25th Percentile = {pct}')"
   ]
  },
  {
   "cell_type": "markdown",
   "id": "d4eaf556",
   "metadata": {},
   "source": [
    "### 2nd Quartile"
   ]
  },
  {
   "cell_type": "markdown",
   "id": "cc46fab6",
   "metadata": {},
   "source": [
    "The positionon of the $50^{th} Percentile = (50/100)50 = 25$"
   ]
  },
  {
   "cell_type": "code",
   "execution_count": 17,
   "id": "4cc9b870",
   "metadata": {},
   "outputs": [
    {
     "name": "stdout",
     "output_type": "stream",
     "text": [
      "✍ 50th Percentile = 97.5\n"
     ]
    }
   ],
   "source": [
    "pct = get_percentile(sorted_data, 50)\n",
    "print(f'✍ 50th Percentile = {pct}')"
   ]
  },
  {
   "cell_type": "code",
   "execution_count": 18,
   "id": "3f2cd6b9",
   "metadata": {},
   "outputs": [
    {
     "name": "stdout",
     "output_type": "stream",
     "text": [
      "🤖 50th Percentile = 97.5\n"
     ]
    }
   ],
   "source": [
    "pct = ap_data[\"Correct\"].quantile(0.5, interpolation='midpoint')\n",
    "print(f'🤖 50th Percentile = {pct}')"
   ]
  },
  {
   "cell_type": "code",
   "execution_count": 19,
   "id": "273bbe4c",
   "metadata": {},
   "outputs": [
    {
     "name": "stdout",
     "output_type": "stream",
     "text": [
      "Median = 97.5\n"
     ]
    }
   ],
   "source": [
    "med = sorted_data.median()\n",
    "print(f'Median = {med}')"
   ]
  },
  {
   "cell_type": "markdown",
   "id": "51fe6400",
   "metadata": {},
   "source": [
    "###  3rd Quartile"
   ]
  },
  {
   "cell_type": "markdown",
   "id": "dc186915",
   "metadata": {},
   "source": [
    "The positionon of the $75^{th} Percentile = (75/100)50 = 37.5 = 38$"
   ]
  },
  {
   "cell_type": "code",
   "execution_count": 20,
   "id": "49879f66",
   "metadata": {},
   "outputs": [
    {
     "name": "stdout",
     "output_type": "stream",
     "text": [
      "✍ 75th Percentile = 113\n"
     ]
    }
   ],
   "source": [
    "pct = get_percentile(sorted_data, 75)\n",
    "print(f'✍ 75th Percentile = {pct}')"
   ]
  },
  {
   "cell_type": "code",
   "execution_count": 21,
   "id": "dbe3d69f",
   "metadata": {},
   "outputs": [
    {
     "name": "stdout",
     "output_type": "stream",
     "text": [
      "🤖 75th Percentile = 113\n"
     ]
    }
   ],
   "source": [
    "pct = ap_data[\"Correct\"].quantile(0.75, interpolation='nearest')\n",
    "print(f'🤖 75th Percentile = {pct}')"
   ]
  },
  {
   "cell_type": "markdown",
   "id": "614d56cb",
   "metadata": {},
   "source": [
    "# 2. Measures of Variability"
   ]
  },
  {
   "cell_type": "markdown",
   "id": "3526ea16",
   "metadata": {},
   "source": [
    "## 2-1. Range"
   ]
  },
  {
   "cell_type": "markdown",
   "id": "4ed681b0",
   "metadata": {},
   "source": [
    "✅ **pandas.DataFrame.max**\n",
    "- Return the maximum of the values over the requested axis\n",
    "- https://pandas.pydata.org/docs/reference/api/pandas.DataFrame.max.html\n",
    "\n",
    "✅ **pandas.DataFrame.min**\n",
    "- Return the minimum of the values over the requested axis\n",
    "- https://pandas.pydata.org/docs/reference/api/pandas.DataFrame.min.html"
   ]
  },
  {
   "cell_type": "markdown",
   "id": "a23de6df",
   "metadata": {},
   "source": [
    "Range = largest value - smallest value"
   ]
  },
  {
   "cell_type": "code",
   "execution_count": 22,
   "id": "bc81cea9",
   "metadata": {},
   "outputs": [
    {
     "name": "stdout",
     "output_type": "stream",
     "text": [
      "Range = 73\n"
     ]
    }
   ],
   "source": [
    "range_x = ap_data[\"Correct\"].max() - ap_data[\"Correct\"].min() # ✅ pandas.DataFrame.max ✅ pandas.DataFrame.min\n",
    "print(f'Range = {range_x}')"
   ]
  },
  {
   "cell_type": "markdown",
   "id": "78fcacfe",
   "metadata": {},
   "source": [
    "## 2-2. Interquartile Range"
   ]
  },
  {
   "cell_type": "markdown",
   "id": "ac8c9be8",
   "metadata": {},
   "source": [
    "Interquartile Range = 3rd Quartile (Q3) - 1st Quartile (Q1)"
   ]
  },
  {
   "cell_type": "code",
   "execution_count": 23,
   "id": "fbe97537",
   "metadata": {},
   "outputs": [
    {
     "name": "stdout",
     "output_type": "stream",
     "text": [
      "Interquartile Range = 30\n"
     ]
    }
   ],
   "source": [
    "# When the desired quantile lies between two data points i and j, 'nearest' method use i or j whichever is nearest.\n",
    "q1 = ap_data[\"Correct\"].quantile(0.25, interpolation='nearest')\n",
    "q3 = ap_data[\"Correct\"].quantile(0.75, interpolation='nearest')\n",
    "\n",
    "irange_x = q3 - q1\n",
    "print(f'Interquartile Range = {irange_x}')"
   ]
  },
  {
   "cell_type": "markdown",
   "id": "2e698c3e",
   "metadata": {},
   "source": [
    "## 2-3. Variance"
   ]
  },
  {
   "cell_type": "markdown",
   "id": "571e3091",
   "metadata": {},
   "source": [
    "✅ **numpy.sum**\n",
    "- Sum of array elements over a given axis.\n",
    "- https://numpy.org/doc/stable/reference/generated/numpy.sum.html\n",
    "\n",
    "✅ **numpy.power**\n",
    "- First array elements raised to powers from second array, element-wise.\n",
    "- https://numpy.org/doc/stable/reference/generated/numpy.power.html\n",
    "\n",
    "✅ **pandas.DataFrame.var**\n",
    "- Return unbiased variance over requested axis.\n",
    "- https://pandas.pydata.org/docs/reference/api/pandas.DataFrame.var.html"
   ]
  },
  {
   "cell_type": "markdown",
   "id": "cf2fbe03",
   "metadata": {},
   "source": [
    "It is based on the difference between the value of each observation($x_i$) and the mean($\\bar x$)."
   ]
  },
  {
   "cell_type": "markdown",
   "id": "06871ba5",
   "metadata": {},
   "source": [
    "## $ s^2 = {{\\sum (x_i - \\bar x)^2} \\over (n-1)}$"
   ]
  },
  {
   "cell_type": "code",
   "execution_count": 24,
   "id": "37b1a1dd",
   "metadata": {},
   "outputs": [
    {
     "name": "stdout",
     "output_type": "stream",
     "text": [
      "✍ Variance = 355.6261224489795\n"
     ]
    }
   ],
   "source": [
    "var_x = np.sum(np.power(ap_data[\"Correct\"] - mean_x, 2)) / (n-1) # ✅ numpy.sum # ✅ numpy.power\n",
    "print(f'✍ Variance = {var_x}')"
   ]
  },
  {
   "cell_type": "code",
   "execution_count": 25,
   "id": "633ece14",
   "metadata": {},
   "outputs": [
    {
     "name": "stdout",
     "output_type": "stream",
     "text": [
      "🤖 Variance = 355.6261224489795\n"
     ]
    }
   ],
   "source": [
    "var_x = ap_data[\"Correct\"].var()\n",
    "print(f'🤖 Variance = {var_x}') # ✅ pandas.DataFrame.var"
   ]
  },
  {
   "cell_type": "markdown",
   "id": "bdab7ffd",
   "metadata": {},
   "source": [
    "## 2-4. Standard Deviation"
   ]
  },
  {
   "cell_type": "markdown",
   "id": "47fbc682",
   "metadata": {},
   "source": [
    "✅ **pandas.DataFrame.std**\n",
    "- Return sample standard deviation over requested axis.\n",
    "- https://pandas.pydata.org/docs/reference/api/pandas.DataFrame.std.html"
   ]
  },
  {
   "cell_type": "markdown",
   "id": "a090f09e",
   "metadata": {},
   "source": [
    "The standard deviation of a data set is the positive square root of the variance."
   ]
  },
  {
   "cell_type": "markdown",
   "id": "ab36e858",
   "metadata": {},
   "source": [
    "## $ s = \\sqrt {s^2} $"
   ]
  },
  {
   "cell_type": "code",
   "execution_count": 26,
   "id": "ffd9a469",
   "metadata": {},
   "outputs": [
    {
     "name": "stdout",
     "output_type": "stream",
     "text": [
      "✍ Standard Deviation = 18.858051926139655\n"
     ]
    }
   ],
   "source": [
    "std_x = np.sqrt(var_x)\n",
    "print(f'✍ Standard Deviation = {std_x}')"
   ]
  },
  {
   "cell_type": "code",
   "execution_count": 27,
   "id": "97891d07",
   "metadata": {},
   "outputs": [
    {
     "name": "stdout",
     "output_type": "stream",
     "text": [
      "🤖 Standard Deviation = 18.858051926139655\n"
     ]
    }
   ],
   "source": [
    "std_x = ap_data[\"Correct\"].std()\n",
    "print(f'🤖 Standard Deviation = {std_x}') # ✅ pandas.DataFrame.std"
   ]
  },
  {
   "cell_type": "markdown",
   "id": "2dfd0b30",
   "metadata": {},
   "source": [
    "## 2-5. Coefficient of Variation"
   ]
  },
  {
   "cell_type": "markdown",
   "id": "14b69fdd",
   "metadata": {},
   "source": [
    "The coefficient of variation is computed as follows:"
   ]
  },
  {
   "cell_type": "markdown",
   "id": "ef9b3d97",
   "metadata": {},
   "source": [
    "## $ ({s \\over {\\bar x}} \\times 100)\\% $"
   ]
  },
  {
   "cell_type": "code",
   "execution_count": 28,
   "id": "5aa9b926",
   "metadata": {},
   "outputs": [
    {
     "name": "stdout",
     "output_type": "stream",
     "text": [
      "Coefficient of Variation = 19.06394250519577\n"
     ]
    }
   ],
   "source": [
    "cv_x = std_x / mean_x * 100\n",
    "print(f'Coefficient of Variation = {cv_x}')"
   ]
  }
 ],
 "metadata": {
  "kernelspec": {
   "display_name": "Python 3 (ipykernel)",
   "language": "python",
   "name": "python3"
  },
  "language_info": {
   "codemirror_mode": {
    "name": "ipython",
    "version": 3
   },
   "file_extension": ".py",
   "mimetype": "text/x-python",
   "name": "python",
   "nbconvert_exporter": "python",
   "pygments_lexer": "ipython3",
   "version": "3.9.12"
  }
 },
 "nbformat": 4,
 "nbformat_minor": 5
}
