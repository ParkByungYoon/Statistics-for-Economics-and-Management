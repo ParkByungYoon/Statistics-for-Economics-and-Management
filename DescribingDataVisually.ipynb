{
 "cells": [
  {
   "cell_type": "markdown",
   "id": "4beb9ab7",
   "metadata": {},
   "source": [
    "## Import Modules"
   ]
  },
  {
   "cell_type": "markdown",
   "id": "784c572c",
   "metadata": {},
   "source": [
    "1. NumPy is the fundamental package for scientific computing in Python.\n",
    "2. Pandas is a data science/data analysis package that is built on NumPy.\n",
    "3. matplotlib.pyplot is a comprehensive package for creating visualizations in Python."
   ]
  },
  {
   "cell_type": "markdown",
   "id": "064d4640",
   "metadata": {},
   "source": [
    "✅ **Import A as B**\n",
    "\n",
    "* \"Import A as B\" means that we will call A package named B."
   ]
  },
  {
   "cell_type": "code",
   "execution_count": 1,
   "id": "c2ff44dd",
   "metadata": {},
   "outputs": [],
   "source": [
    "import numpy as np\n",
    "import pandas as pd\n",
    "import matplotlib.pyplot as plt"
   ]
  },
  {
   "cell_type": "markdown",
   "id": "221f233b",
   "metadata": {},
   "source": [
    "# 1. Categorical Data"
   ]
  },
  {
   "cell_type": "markdown",
   "id": "1f716bd6",
   "metadata": {},
   "source": [
    "After you import the packages, you can use many functions in the packages."
   ]
  },
  {
   "cell_type": "markdown",
   "id": "5aa68954",
   "metadata": {},
   "source": [
    "✅ **pandas.read_excel**\n",
    "\n",
    "* To load the data of excel file, you have to use \"read_excel\" function in Pandas.\n",
    "* \"read_excel\" function needs the file path, so you need to input the exact location of \"AirSurvey.xlsx\" file.\n",
    "* https://pandas.pydata.org/docs/reference/api/pandas.read_excel.html\n",
    "\n",
    "✅ **File Path**\n",
    "* \"./\" means the location of current file. \n",
    "* For this reason, './AirSurvey.xlsx' means the location of excel file which is in the location of this jupyter notebook file.\n",
    "* Finally, you can access the excel file in this notebook by putting them in the same place."
   ]
  },
  {
   "cell_type": "code",
   "execution_count": 2,
   "id": "ebe03ba1",
   "metadata": {},
   "outputs": [],
   "source": [
    "cat_data = pd.read_excel('./AirSurvey.xlsx') # ✅ pandas.read_excel ✅ File Path"
   ]
  },
  {
   "cell_type": "markdown",
   "id": "03296534",
   "metadata": {},
   "source": [
    "DataFrame object is created because you assigned it to \"cat_data\" variable.\n",
    "\n",
    "It provides many useful functions for tabular data."
   ]
  },
  {
   "cell_type": "markdown",
   "id": "3f36cba7",
   "metadata": {},
   "source": [
    "✅ **pandas.DataFrame.head**\n",
    "\n",
    "* When you use \"head\" function in pandas, it returns the first n rows of the excel data.\n",
    "* Aside from head function, there are many functions in a DataFrame object.\n",
    "* If you want to know more functions, you can obtain the information through below link.\n",
    "    * https://pandas.pydata.org/docs/reference/api/pandas.DataFrame.html"
   ]
  },
  {
   "cell_type": "code",
   "execution_count": 3,
   "id": "80a55fb9",
   "metadata": {},
   "outputs": [
    {
     "data": {
      "text/html": [
       "<div>\n",
       "<style scoped>\n",
       "    .dataframe tbody tr th:only-of-type {\n",
       "        vertical-align: middle;\n",
       "    }\n",
       "\n",
       "    .dataframe tbody tr th {\n",
       "        vertical-align: top;\n",
       "    }\n",
       "\n",
       "    .dataframe thead th {\n",
       "        text-align: right;\n",
       "    }\n",
       "</style>\n",
       "<table border=\"1\" class=\"dataframe\">\n",
       "  <thead>\n",
       "    <tr style=\"text-align: right;\">\n",
       "      <th></th>\n",
       "      <th>Rating</th>\n",
       "    </tr>\n",
       "  </thead>\n",
       "  <tbody>\n",
       "    <tr>\n",
       "      <th>0</th>\n",
       "      <td>Excellent</td>\n",
       "    </tr>\n",
       "    <tr>\n",
       "      <th>1</th>\n",
       "      <td>Excellent</td>\n",
       "    </tr>\n",
       "    <tr>\n",
       "      <th>2</th>\n",
       "      <td>Very Good</td>\n",
       "    </tr>\n",
       "    <tr>\n",
       "      <th>3</th>\n",
       "      <td>Good</td>\n",
       "    </tr>\n",
       "    <tr>\n",
       "      <th>4</th>\n",
       "      <td>Excellent</td>\n",
       "    </tr>\n",
       "    <tr>\n",
       "      <th>5</th>\n",
       "      <td>Excellent</td>\n",
       "    </tr>\n",
       "    <tr>\n",
       "      <th>6</th>\n",
       "      <td>Good</td>\n",
       "    </tr>\n",
       "    <tr>\n",
       "      <th>7</th>\n",
       "      <td>Very Good</td>\n",
       "    </tr>\n",
       "    <tr>\n",
       "      <th>8</th>\n",
       "      <td>Excellent</td>\n",
       "    </tr>\n",
       "    <tr>\n",
       "      <th>9</th>\n",
       "      <td>Excellent</td>\n",
       "    </tr>\n",
       "  </tbody>\n",
       "</table>\n",
       "</div>"
      ],
      "text/plain": [
       "      Rating\n",
       "0  Excellent\n",
       "1  Excellent\n",
       "2  Very Good\n",
       "3       Good\n",
       "4  Excellent\n",
       "5  Excellent\n",
       "6       Good\n",
       "7  Very Good\n",
       "8  Excellent\n",
       "9  Excellent"
      ]
     },
     "execution_count": 3,
     "metadata": {},
     "output_type": "execute_result"
    }
   ],
   "source": [
    "cat_data.head(10) # ✅ pandas.DataFrame.head"
   ]
  },
  {
   "cell_type": "markdown",
   "id": "ba413b78",
   "metadata": {},
   "source": [
    "## 1-1. Frequency Distribution"
   ]
  },
  {
   "cell_type": "markdown",
   "id": "520ce906",
   "metadata": {},
   "source": [
    "✅ **pandas.DataFrame.value_counts**\n",
    "\n",
    "* value_counts() is also a function of the DataFrame object.\n",
    "* It returns the frequency of the data.\n",
    "* https://pandas.pydata.org/docs/reference/api/pandas.DataFrame.value_counts.html"
   ]
  },
  {
   "cell_type": "code",
   "execution_count": 4,
   "id": "937b3d97",
   "metadata": {},
   "outputs": [
    {
     "data": {
      "text/html": [
       "<div>\n",
       "<style scoped>\n",
       "    .dataframe tbody tr th:only-of-type {\n",
       "        vertical-align: middle;\n",
       "    }\n",
       "\n",
       "    .dataframe tbody tr th {\n",
       "        vertical-align: top;\n",
       "    }\n",
       "\n",
       "    .dataframe thead th {\n",
       "        text-align: right;\n",
       "    }\n",
       "</style>\n",
       "<table border=\"1\" class=\"dataframe\">\n",
       "  <thead>\n",
       "    <tr style=\"text-align: right;\">\n",
       "      <th></th>\n",
       "      <th>Frequency</th>\n",
       "    </tr>\n",
       "  </thead>\n",
       "  <tbody>\n",
       "    <tr>\n",
       "      <th>Very Good</th>\n",
       "      <td>23</td>\n",
       "    </tr>\n",
       "    <tr>\n",
       "      <th>Excellent</th>\n",
       "      <td>20</td>\n",
       "    </tr>\n",
       "    <tr>\n",
       "      <th>Good</th>\n",
       "      <td>4</td>\n",
       "    </tr>\n",
       "    <tr>\n",
       "      <th>Poor</th>\n",
       "      <td>2</td>\n",
       "    </tr>\n",
       "    <tr>\n",
       "      <th>Fair</th>\n",
       "      <td>1</td>\n",
       "    </tr>\n",
       "  </tbody>\n",
       "</table>\n",
       "</div>"
      ],
      "text/plain": [
       "           Frequency\n",
       "Very Good         23\n",
       "Excellent         20\n",
       "Good               4\n",
       "Poor               2\n",
       "Fair               1"
      ]
     },
     "execution_count": 4,
     "metadata": {},
     "output_type": "execute_result"
    }
   ],
   "source": [
    "# By wrapping with pandas.DataFrame, you can obtain DataFrame object.\n",
    "cat_table = pd.DataFrame(cat_data[\"Rating\"].value_counts()) # ✅ pandas.DataFrame.value_counts\n",
    "\n",
    "# Rename the column as 'Frequency'\n",
    "cat_table.columns = ['Frequency']\n",
    "\n",
    "# Check the table\n",
    "cat_table"
   ]
  },
  {
   "cell_type": "markdown",
   "id": "bcbb4ef0",
   "metadata": {},
   "source": [
    "## 1-2. Relative Frequency Distribution"
   ]
  },
  {
   "cell_type": "markdown",
   "id": "ba49793c",
   "metadata": {},
   "source": [
    "DataFrame object (excatly NumPy) offers flexible oprations that can help the array of numbers to operate with an integer.\n",
    "\n",
    "Therefore, you can get the relative frequency by dividing \"Frequency\" column of the table with the sum of the frequency."
   ]
  },
  {
   "cell_type": "markdown",
   "id": "4f5e34ba",
   "metadata": {},
   "source": [
    "✅ **sum**\n",
    "\n",
    "* sum() function is a python built-in function.\n",
    "* It returns a total of the items contained in the iterable object."
   ]
  },
  {
   "cell_type": "code",
   "execution_count": 5,
   "id": "26b53c03",
   "metadata": {
    "scrolled": true
   },
   "outputs": [
    {
     "data": {
      "text/html": [
       "<div>\n",
       "<style scoped>\n",
       "    .dataframe tbody tr th:only-of-type {\n",
       "        vertical-align: middle;\n",
       "    }\n",
       "\n",
       "    .dataframe tbody tr th {\n",
       "        vertical-align: top;\n",
       "    }\n",
       "\n",
       "    .dataframe thead th {\n",
       "        text-align: right;\n",
       "    }\n",
       "</style>\n",
       "<table border=\"1\" class=\"dataframe\">\n",
       "  <thead>\n",
       "    <tr style=\"text-align: right;\">\n",
       "      <th></th>\n",
       "      <th>Frequency</th>\n",
       "      <th>Relative Frequency</th>\n",
       "    </tr>\n",
       "  </thead>\n",
       "  <tbody>\n",
       "    <tr>\n",
       "      <th>Very Good</th>\n",
       "      <td>23</td>\n",
       "      <td>0.46</td>\n",
       "    </tr>\n",
       "    <tr>\n",
       "      <th>Excellent</th>\n",
       "      <td>20</td>\n",
       "      <td>0.40</td>\n",
       "    </tr>\n",
       "    <tr>\n",
       "      <th>Good</th>\n",
       "      <td>4</td>\n",
       "      <td>0.08</td>\n",
       "    </tr>\n",
       "    <tr>\n",
       "      <th>Poor</th>\n",
       "      <td>2</td>\n",
       "      <td>0.04</td>\n",
       "    </tr>\n",
       "    <tr>\n",
       "      <th>Fair</th>\n",
       "      <td>1</td>\n",
       "      <td>0.02</td>\n",
       "    </tr>\n",
       "  </tbody>\n",
       "</table>\n",
       "</div>"
      ],
      "text/plain": [
       "           Frequency  Relative Frequency\n",
       "Very Good         23                0.46\n",
       "Excellent         20                0.40\n",
       "Good               4                0.08\n",
       "Poor               2                0.04\n",
       "Fair               1                0.02"
      ]
     },
     "execution_count": 5,
     "metadata": {},
     "output_type": "execute_result"
    }
   ],
   "source": [
    "# You can access the column of the table through the format like table[\"Column Name\"].\n",
    "total_num = sum(cat_table[\"Frequency\"]) # ✅ sum\n",
    "\n",
    "# New Column can be created when the assigned object has the same length of the table.\n",
    "cat_table[\"Relative Frequency\"] = cat_table[\"Frequency\"] / total_num\n",
    "cat_table"
   ]
  },
  {
   "cell_type": "markdown",
   "id": "c3aac586",
   "metadata": {},
   "source": [
    "## 1-2. Percent Frequency Distribution"
   ]
  },
  {
   "cell_type": "markdown",
   "id": "6a49f06c",
   "metadata": {},
   "source": [
    "The percent frequency distribution can also be obtained in the same way."
   ]
  },
  {
   "cell_type": "code",
   "execution_count": 6,
   "id": "5f466c70",
   "metadata": {
    "scrolled": false
   },
   "outputs": [
    {
     "data": {
      "text/html": [
       "<div>\n",
       "<style scoped>\n",
       "    .dataframe tbody tr th:only-of-type {\n",
       "        vertical-align: middle;\n",
       "    }\n",
       "\n",
       "    .dataframe tbody tr th {\n",
       "        vertical-align: top;\n",
       "    }\n",
       "\n",
       "    .dataframe thead th {\n",
       "        text-align: right;\n",
       "    }\n",
       "</style>\n",
       "<table border=\"1\" class=\"dataframe\">\n",
       "  <thead>\n",
       "    <tr style=\"text-align: right;\">\n",
       "      <th></th>\n",
       "      <th>Frequency</th>\n",
       "      <th>Relative Frequency</th>\n",
       "      <th>Percent Frequency</th>\n",
       "    </tr>\n",
       "  </thead>\n",
       "  <tbody>\n",
       "    <tr>\n",
       "      <th>Very Good</th>\n",
       "      <td>23</td>\n",
       "      <td>0.46</td>\n",
       "      <td>46.0</td>\n",
       "    </tr>\n",
       "    <tr>\n",
       "      <th>Excellent</th>\n",
       "      <td>20</td>\n",
       "      <td>0.40</td>\n",
       "      <td>40.0</td>\n",
       "    </tr>\n",
       "    <tr>\n",
       "      <th>Good</th>\n",
       "      <td>4</td>\n",
       "      <td>0.08</td>\n",
       "      <td>8.0</td>\n",
       "    </tr>\n",
       "    <tr>\n",
       "      <th>Poor</th>\n",
       "      <td>2</td>\n",
       "      <td>0.04</td>\n",
       "      <td>4.0</td>\n",
       "    </tr>\n",
       "    <tr>\n",
       "      <th>Fair</th>\n",
       "      <td>1</td>\n",
       "      <td>0.02</td>\n",
       "      <td>2.0</td>\n",
       "    </tr>\n",
       "  </tbody>\n",
       "</table>\n",
       "</div>"
      ],
      "text/plain": [
       "           Frequency  Relative Frequency  Percent Frequency\n",
       "Very Good         23                0.46               46.0\n",
       "Excellent         20                0.40               40.0\n",
       "Good               4                0.08                8.0\n",
       "Poor               2                0.04                4.0\n",
       "Fair               1                0.02                2.0"
      ]
     },
     "execution_count": 6,
     "metadata": {},
     "output_type": "execute_result"
    }
   ],
   "source": [
    "cat_table[\"Percent Frequency\"] = cat_table[\"Relative Frequency\"] * 100\n",
    "cat_table"
   ]
  },
  {
   "cell_type": "markdown",
   "id": "62b99acd",
   "metadata": {},
   "source": [
    "## 1-3. Bar Chart"
   ]
  },
  {
   "cell_type": "markdown",
   "id": "f5173d72",
   "metadata": {},
   "source": [
    "To make a Bar Chart, we will use a bar function of matplotlib.pyplot.\n",
    "\n",
    "✅ **numpy.arange**\n",
    "* This function returns evenly spaced values within a given interval.\n",
    "* https://numpy.org/doc/stable/reference/generated/numpy.arange.html\n",
    "\n",
    "✅ **len**\n",
    "- len() function is a python built-in function.\n",
    "- It returns the length (the number of items) of an object.\n",
    "\n",
    "✅ **matplotlib.pyplot.bar**\n",
    "- The x coordinates of the bars and the heights of the bars should be given.\n",
    "- https://matplotlib.org/stable/api/_as_gen/matplotlib.pyplot.bar.html\n",
    "- If you want to know more functions in pyplot, you can obtain the information through below link.\n",
    "    - https://matplotlib.org/stable/api/_as_gen/matplotlib.pyplot.html"
   ]
  },
  {
   "cell_type": "code",
   "execution_count": 7,
   "id": "96921ddd",
   "metadata": {},
   "outputs": [
    {
     "data": {
      "text/plain": [
       "Index(['Very Good', 'Excellent', 'Good', 'Poor', 'Fair'], dtype='object')"
      ]
     },
     "execution_count": 7,
     "metadata": {},
     "output_type": "execute_result"
    }
   ],
   "source": [
    "categories = cat_table.index\n",
    "categories"
   ]
  },
  {
   "cell_type": "code",
   "execution_count": 8,
   "id": "6c9221b1",
   "metadata": {},
   "outputs": [
    {
     "data": {
      "image/png": "[encoded data removed]",
      "text/plain": [
       "<Figure size 432x288 with 1 Axes>"
      ]
     },
     "metadata": {
      "needs_background": "light"
     },
     "output_type": "display_data"
    }
   ],
   "source": [
    "# len(cat_table) : the number of categories\n",
    "# np.arange(len(cat_table)) : The x coordinates of the bars\n",
    "x = np.arange(len(cat_table)) # ✅ numpy.arange ✅ len (0,1,2,3,4)\n",
    "\n",
    "# The label for each category can be accessed by using DataFrame.index.values\n",
    "categories = cat_table.index\n",
    "\n",
    "# Make a bar plot with frequency\n",
    "plt.bar(x, cat_table[\"Frequency\"]) # ✅ matplotlib.pyplot.bar\n",
    "\n",
    "# Set the labels of the x-axis.\n",
    "plt.xticks(x, categories)\n",
    "\n",
    "# Name X,Y axis\n",
    "plt.xlabel('Rating', fontsize=12)\n",
    "plt.ylabel('Frequency', fontsize=12)\n",
    "\n",
    "# Show your figure\n",
    "plt.show()"
   ]
  },
  {
   "cell_type": "markdown",
   "id": "fa2426be",
   "metadata": {},
   "source": [
    "## 1-4. Pie Chart"
   ]
  },
  {
   "cell_type": "markdown",
   "id": "0cb030c2",
   "metadata": {},
   "source": [
    "Pie chart can also be created through matplotlib.pyplot.\n",
    "\n",
    "✅ **matplotlib.pyplot.pie**\n",
    "- This function makes a pie chart of array x.\n",
    "- https://matplotlib.org/stable/api/_as_gen/matplotlib.pyplot.pie.html"
   ]
  },
  {
   "cell_type": "code",
   "execution_count": 9,
   "id": "4112e8a5",
   "metadata": {
    "scrolled": true
   },
   "outputs": [
    {
     "data": {
      "image/png": "[encoded data removed]",
      "text/plain": [
       "<Figure size 360x360 with 1 Axes>"
      ]
     },
     "metadata": {},
     "output_type": "display_data"
    }
   ],
   "source": [
    "# Resize your Figure\n",
    "plt.figure(figsize=(5, 5))\n",
    "\n",
    "# Make a pie chart of relative Frequency\n",
    "plt.pie(cat_table['Relative Frequency'], labels=categories, autopct='%.0f%%') # ✅ matplotlib.pyplot.pie\n",
    "\n",
    "# Show your figure\n",
    "plt.show()"
   ]
  },
  {
   "cell_type": "markdown",
   "id": "0b8a2122",
   "metadata": {},
   "source": [
    "# 2. Quantitative Data"
   ]
  },
  {
   "cell_type": "markdown",
   "id": "aec33c6b",
   "metadata": {},
   "source": [
    "In the same way as above, we first load quantitative data from \"ApTest.xlsx\" file."
   ]
  },
  {
   "cell_type": "code",
   "execution_count": 10,
   "id": "350d1ad8",
   "metadata": {},
   "outputs": [
    {
     "data": {
      "text/html": [
       "<div>\n",
       "<style scoped>\n",
       "    .dataframe tbody tr th:only-of-type {\n",
       "        vertical-align: middle;\n",
       "    }\n",
       "\n",
       "    .dataframe tbody tr th {\n",
       "        vertical-align: top;\n",
       "    }\n",
       "\n",
       "    .dataframe thead th {\n",
       "        text-align: right;\n",
       "    }\n",
       "</style>\n",
       "<table border=\"1\" class=\"dataframe\">\n",
       "  <thead>\n",
       "    <tr style=\"text-align: right;\">\n",
       "      <th></th>\n",
       "      <th>Correct</th>\n",
       "    </tr>\n",
       "  </thead>\n",
       "  <tbody>\n",
       "    <tr>\n",
       "      <th>0</th>\n",
       "      <td>112</td>\n",
       "    </tr>\n",
       "    <tr>\n",
       "      <th>1</th>\n",
       "      <td>73</td>\n",
       "    </tr>\n",
       "    <tr>\n",
       "      <th>2</th>\n",
       "      <td>126</td>\n",
       "    </tr>\n",
       "    <tr>\n",
       "      <th>3</th>\n",
       "      <td>82</td>\n",
       "    </tr>\n",
       "    <tr>\n",
       "      <th>4</th>\n",
       "      <td>92</td>\n",
       "    </tr>\n",
       "    <tr>\n",
       "      <th>5</th>\n",
       "      <td>115</td>\n",
       "    </tr>\n",
       "    <tr>\n",
       "      <th>6</th>\n",
       "      <td>95</td>\n",
       "    </tr>\n",
       "    <tr>\n",
       "      <th>7</th>\n",
       "      <td>84</td>\n",
       "    </tr>\n",
       "    <tr>\n",
       "      <th>8</th>\n",
       "      <td>68</td>\n",
       "    </tr>\n",
       "    <tr>\n",
       "      <th>9</th>\n",
       "      <td>100</td>\n",
       "    </tr>\n",
       "  </tbody>\n",
       "</table>\n",
       "</div>"
      ],
      "text/plain": [
       "   Correct\n",
       "0      112\n",
       "1       73\n",
       "2      126\n",
       "3       82\n",
       "4       92\n",
       "5      115\n",
       "6       95\n",
       "7       84\n",
       "8       68\n",
       "9      100"
      ]
     },
     "execution_count": 10,
     "metadata": {},
     "output_type": "execute_result"
    }
   ],
   "source": [
    "quan_data = pd.read_excel('./ApTest.xlsx')\n",
    "quan_data.head(10)"
   ]
  },
  {
   "cell_type": "markdown",
   "id": "ec5f362f",
   "metadata": {},
   "source": [
    "The three steps necessary to define the class for frequency distribution with quantitative data are:\n",
    "1. Determine the number of non-overlapping class\n",
    "2. Determine the width of each class\n",
    "3. Determine the class limits"
   ]
  },
  {
   "cell_type": "markdown",
   "id": "66362083",
   "metadata": {},
   "source": [
    "### 1. Determine the number of non-overlapping class"
   ]
  },
  {
   "cell_type": "markdown",
   "id": "28a75ebb",
   "metadata": {},
   "source": [
    "The number of classes is set to 9."
   ]
  },
  {
   "cell_type": "code",
   "execution_count": 11,
   "id": "03049714",
   "metadata": {},
   "outputs": [],
   "source": [
    "class_num = 9"
   ]
  },
  {
   "cell_type": "markdown",
   "id": "c9127731",
   "metadata": {},
   "source": [
    "### 2. Determine the width of each class"
   ]
  },
  {
   "cell_type": "markdown",
   "id": "a4fdac3a",
   "metadata": {},
   "source": [
    "✅ **max**\n",
    "* max() function is a python built-in function.\n",
    "* It returns the largest item in an iterable object.\n",
    "\n",
    "✅ **min**\n",
    "* min() function is a python built-in function.\n",
    "* It returns the smallest item in an iterable object."
   ]
  },
  {
   "cell_type": "code",
   "execution_count": 12,
   "id": "1278a6a1",
   "metadata": {},
   "outputs": [
    {
     "data": {
      "text/plain": [
       "8.11111111111111"
      ]
     },
     "execution_count": 12,
     "metadata": {},
     "output_type": "execute_result"
    }
   ],
   "source": [
    "class_width = (max(quan_data.Correct) - min(quan_data.Correct)) / class_num # ✅ max ✅ min\n",
    "class_width"
   ]
  },
  {
   "cell_type": "markdown",
   "id": "cdd602c6",
   "metadata": {},
   "source": [
    "### *Round this number up to make sense intuitively, so the class width is now set to 10.*"
   ]
  },
  {
   "cell_type": "code",
   "execution_count": 13,
   "id": "7a06ddb8",
   "metadata": {},
   "outputs": [],
   "source": [
    "class_width = 10"
   ]
  },
  {
   "cell_type": "markdown",
   "id": "d35778c5",
   "metadata": {},
   "source": [
    "### 3. Determine the class limits"
   ]
  },
  {
   "cell_type": "markdown",
   "id": "4fefb7ae",
   "metadata": {},
   "source": [
    "- Lower limits for the 1st class is 60 and upper limits for the 1st class is 69.\n",
    "- Lower limits for the 2nd 2nd is 70 and upper limits for the 2nd class is 79.\n",
    "## ``````\n",
    "\n",
    "- Lower limits for the last class is 140 and upper limits for the last class is 149."
   ]
  },
  {
   "cell_type": "markdown",
   "id": "0c5db63a",
   "metadata": {},
   "source": [
    "✅ **range()**\n",
    "\n",
    "* range() iterates over a sequence of numbers, so you can get the list of numbers by wrapping with list().\n",
    "* https://docs.python.org/3.6/tutorial/controlflow.html#the-range-function\n",
    "\n",
    "\n",
    "✅ **List Comprehension**\n",
    "\n",
    "* With list comprehension you can create a new list based on the values of an existing list with only one line of code.\n",
    "* https://www.geeksforgeeks.org/python-list-comprehension/\n",
    "\n",
    "✅ **f-strings**\n",
    "\n",
    "* f-strings let you include the value of Python expressions inside a string by prefixing the string with 'f' and writing expressions as {exp} \n",
    "* https://docs.python.org/3/tutorial/inputoutput.html#formatted-string-literals\n"
   ]
  },
  {
   "cell_type": "code",
   "execution_count": 14,
   "id": "6fc9b2b7",
   "metadata": {
    "scrolled": true
   },
   "outputs": [
    {
     "name": "stdout",
     "output_type": "stream",
     "text": [
      "Limits for each class:  ['60-69', '70-79', '80-89', '90-99', '100-109', '110-119', '120-129', '130-139', '140-149']\n"
     ]
    }
   ],
   "source": [
    "bins = list(range(60, 151, class_width)) # ✅ range()\n",
    "labels = [f'{x}-{x+class_width-1}' for x in bins[:-1]] # ✅ List Comprehension ✅ f-strings\n",
    "\n",
    "print('Limits for each class: ', labels)"
   ]
  },
  {
   "cell_type": "markdown",
   "id": "d88f605b",
   "metadata": {},
   "source": [
    "✅ **pandas.cut**\n",
    "\n",
    "* This function is useful for segmenting data values into pre-specified array of bins.\n",
    "* https://pandas.pydata.org/docs/reference/api/pandas.cut.html\n"
   ]
  },
  {
   "cell_type": "code",
   "execution_count": 15,
   "id": "92f31f0a",
   "metadata": {},
   "outputs": [
    {
     "data": {
      "text/html": [
       "<div>\n",
       "<style scoped>\n",
       "    .dataframe tbody tr th:only-of-type {\n",
       "        vertical-align: middle;\n",
       "    }\n",
       "\n",
       "    .dataframe tbody tr th {\n",
       "        vertical-align: top;\n",
       "    }\n",
       "\n",
       "    .dataframe thead th {\n",
       "        text-align: right;\n",
       "    }\n",
       "</style>\n",
       "<table border=\"1\" class=\"dataframe\">\n",
       "  <thead>\n",
       "    <tr style=\"text-align: right;\">\n",
       "      <th></th>\n",
       "      <th>Correct</th>\n",
       "      <th>Class</th>\n",
       "    </tr>\n",
       "  </thead>\n",
       "  <tbody>\n",
       "    <tr>\n",
       "      <th>0</th>\n",
       "      <td>112</td>\n",
       "      <td>110-119</td>\n",
       "    </tr>\n",
       "    <tr>\n",
       "      <th>1</th>\n",
       "      <td>73</td>\n",
       "      <td>70-79</td>\n",
       "    </tr>\n",
       "    <tr>\n",
       "      <th>2</th>\n",
       "      <td>126</td>\n",
       "      <td>120-129</td>\n",
       "    </tr>\n",
       "    <tr>\n",
       "      <th>3</th>\n",
       "      <td>82</td>\n",
       "      <td>80-89</td>\n",
       "    </tr>\n",
       "    <tr>\n",
       "      <th>4</th>\n",
       "      <td>92</td>\n",
       "      <td>90-99</td>\n",
       "    </tr>\n",
       "    <tr>\n",
       "      <th>5</th>\n",
       "      <td>115</td>\n",
       "      <td>110-119</td>\n",
       "    </tr>\n",
       "    <tr>\n",
       "      <th>6</th>\n",
       "      <td>95</td>\n",
       "      <td>90-99</td>\n",
       "    </tr>\n",
       "    <tr>\n",
       "      <th>7</th>\n",
       "      <td>84</td>\n",
       "      <td>80-89</td>\n",
       "    </tr>\n",
       "    <tr>\n",
       "      <th>8</th>\n",
       "      <td>68</td>\n",
       "      <td>60-69</td>\n",
       "    </tr>\n",
       "    <tr>\n",
       "      <th>9</th>\n",
       "      <td>100</td>\n",
       "      <td>100-109</td>\n",
       "    </tr>\n",
       "  </tbody>\n",
       "</table>\n",
       "</div>"
      ],
      "text/plain": [
       "   Correct    Class\n",
       "0      112  110-119\n",
       "1       73    70-79\n",
       "2      126  120-129\n",
       "3       82    80-89\n",
       "4       92    90-99\n",
       "5      115  110-119\n",
       "6       95    90-99\n",
       "7       84    80-89\n",
       "8       68    60-69\n",
       "9      100  100-109"
      ]
     },
     "execution_count": 15,
     "metadata": {},
     "output_type": "execute_result"
    }
   ],
   "source": [
    "quan_data['Class'] = pd.cut(quan_data[\"Correct\"], bins, labels=labels, right=False) # ✅ pandas.cut()\n",
    "quan_data.head(10)"
   ]
  },
  {
   "cell_type": "markdown",
   "id": "5167d1b4",
   "metadata": {},
   "source": [
    "## 2-1. Frequency Distribution"
   ]
  },
  {
   "cell_type": "markdown",
   "id": "faff4974",
   "metadata": {},
   "source": [
    "✅ **pandas.DataFrame.sort_index**\n",
    "\n",
    "* This function returns a new DataFrame sorted by label.\n",
    "* https://pandas.pydata.org/docs/reference/api/pandas.DataFrame.sort_index.html\n"
   ]
  },
  {
   "cell_type": "code",
   "execution_count": 16,
   "id": "be3210f2",
   "metadata": {},
   "outputs": [
    {
     "data": {
      "text/html": [
       "<div>\n",
       "<style scoped>\n",
       "    .dataframe tbody tr th:only-of-type {\n",
       "        vertical-align: middle;\n",
       "    }\n",
       "\n",
       "    .dataframe tbody tr th {\n",
       "        vertical-align: top;\n",
       "    }\n",
       "\n",
       "    .dataframe thead th {\n",
       "        text-align: right;\n",
       "    }\n",
       "</style>\n",
       "<table border=\"1\" class=\"dataframe\">\n",
       "  <thead>\n",
       "    <tr style=\"text-align: right;\">\n",
       "      <th></th>\n",
       "      <th>Frequency</th>\n",
       "    </tr>\n",
       "  </thead>\n",
       "  <tbody>\n",
       "    <tr>\n",
       "      <th>60-69</th>\n",
       "      <td>2</td>\n",
       "    </tr>\n",
       "    <tr>\n",
       "      <th>70-79</th>\n",
       "      <td>6</td>\n",
       "    </tr>\n",
       "    <tr>\n",
       "      <th>80-89</th>\n",
       "      <td>8</td>\n",
       "    </tr>\n",
       "    <tr>\n",
       "      <th>90-99</th>\n",
       "      <td>11</td>\n",
       "    </tr>\n",
       "    <tr>\n",
       "      <th>100-109</th>\n",
       "      <td>9</td>\n",
       "    </tr>\n",
       "    <tr>\n",
       "      <th>110-119</th>\n",
       "      <td>7</td>\n",
       "    </tr>\n",
       "    <tr>\n",
       "      <th>120-129</th>\n",
       "      <td>4</td>\n",
       "    </tr>\n",
       "    <tr>\n",
       "      <th>130-139</th>\n",
       "      <td>2</td>\n",
       "    </tr>\n",
       "    <tr>\n",
       "      <th>140-149</th>\n",
       "      <td>1</td>\n",
       "    </tr>\n",
       "  </tbody>\n",
       "</table>\n",
       "</div>"
      ],
      "text/plain": [
       "         Frequency\n",
       "60-69            2\n",
       "70-79            6\n",
       "80-89            8\n",
       "90-99           11\n",
       "100-109          9\n",
       "110-119          7\n",
       "120-129          4\n",
       "130-139          2\n",
       "140-149          1"
      ]
     },
     "execution_count": 16,
     "metadata": {},
     "output_type": "execute_result"
    }
   ],
   "source": [
    "# To make easy on the eye, sort the classes by using sort_index function.\n",
    "quan_table = pd.DataFrame(quan_data.Class.value_counts()).sort_index() # ✅ pandas.DataFrame.sort_index\n",
    "quan_table.columns = ['Frequency']\n",
    "quan_table"
   ]
  },
  {
   "cell_type": "markdown",
   "id": "ca823cab",
   "metadata": {},
   "source": [
    "## 2-2. Relative Frequency Distribution"
   ]
  },
  {
   "cell_type": "code",
   "execution_count": 17,
   "id": "cb90e56c",
   "metadata": {},
   "outputs": [
    {
     "data": {
      "text/html": [
       "<div>\n",
       "<style scoped>\n",
       "    .dataframe tbody tr th:only-of-type {\n",
       "        vertical-align: middle;\n",
       "    }\n",
       "\n",
       "    .dataframe tbody tr th {\n",
       "        vertical-align: top;\n",
       "    }\n",
       "\n",
       "    .dataframe thead th {\n",
       "        text-align: right;\n",
       "    }\n",
       "</style>\n",
       "<table border=\"1\" class=\"dataframe\">\n",
       "  <thead>\n",
       "    <tr style=\"text-align: right;\">\n",
       "      <th></th>\n",
       "      <th>Frequency</th>\n",
       "      <th>Relative Frequency</th>\n",
       "    </tr>\n",
       "  </thead>\n",
       "  <tbody>\n",
       "    <tr>\n",
       "      <th>60-69</th>\n",
       "      <td>2</td>\n",
       "      <td>0.04</td>\n",
       "    </tr>\n",
       "    <tr>\n",
       "      <th>70-79</th>\n",
       "      <td>6</td>\n",
       "      <td>0.12</td>\n",
       "    </tr>\n",
       "    <tr>\n",
       "      <th>80-89</th>\n",
       "      <td>8</td>\n",
       "      <td>0.16</td>\n",
       "    </tr>\n",
       "    <tr>\n",
       "      <th>90-99</th>\n",
       "      <td>11</td>\n",
       "      <td>0.22</td>\n",
       "    </tr>\n",
       "    <tr>\n",
       "      <th>100-109</th>\n",
       "      <td>9</td>\n",
       "      <td>0.18</td>\n",
       "    </tr>\n",
       "    <tr>\n",
       "      <th>110-119</th>\n",
       "      <td>7</td>\n",
       "      <td>0.14</td>\n",
       "    </tr>\n",
       "    <tr>\n",
       "      <th>120-129</th>\n",
       "      <td>4</td>\n",
       "      <td>0.08</td>\n",
       "    </tr>\n",
       "    <tr>\n",
       "      <th>130-139</th>\n",
       "      <td>2</td>\n",
       "      <td>0.04</td>\n",
       "    </tr>\n",
       "    <tr>\n",
       "      <th>140-149</th>\n",
       "      <td>1</td>\n",
       "      <td>0.02</td>\n",
       "    </tr>\n",
       "  </tbody>\n",
       "</table>\n",
       "</div>"
      ],
      "text/plain": [
       "         Frequency  Relative Frequency\n",
       "60-69            2                0.04\n",
       "70-79            6                0.12\n",
       "80-89            8                0.16\n",
       "90-99           11                0.22\n",
       "100-109          9                0.18\n",
       "110-119          7                0.14\n",
       "120-129          4                0.08\n",
       "130-139          2                0.04\n",
       "140-149          1                0.02"
      ]
     },
     "execution_count": 17,
     "metadata": {},
     "output_type": "execute_result"
    }
   ],
   "source": [
    "total_num = sum(quan_table[\"Frequency\"])\n",
    "quan_table[\"Relative Frequency\"] = quan_table[\"Frequency\"] / total_num\n",
    "quan_table"
   ]
  },
  {
   "cell_type": "markdown",
   "id": "aa74eb32",
   "metadata": {},
   "source": [
    "## 2-3. Percent Frequency Distribution"
   ]
  },
  {
   "cell_type": "code",
   "execution_count": 18,
   "id": "d36771b4",
   "metadata": {},
   "outputs": [
    {
     "data": {
      "text/html": [
       "<div>\n",
       "<style scoped>\n",
       "    .dataframe tbody tr th:only-of-type {\n",
       "        vertical-align: middle;\n",
       "    }\n",
       "\n",
       "    .dataframe tbody tr th {\n",
       "        vertical-align: top;\n",
       "    }\n",
       "\n",
       "    .dataframe thead th {\n",
       "        text-align: right;\n",
       "    }\n",
       "</style>\n",
       "<table border=\"1\" class=\"dataframe\">\n",
       "  <thead>\n",
       "    <tr style=\"text-align: right;\">\n",
       "      <th></th>\n",
       "      <th>Frequency</th>\n",
       "      <th>Relative Frequency</th>\n",
       "      <th>Percent Frequency</th>\n",
       "    </tr>\n",
       "  </thead>\n",
       "  <tbody>\n",
       "    <tr>\n",
       "      <th>60-69</th>\n",
       "      <td>2</td>\n",
       "      <td>0.04</td>\n",
       "      <td>4.0</td>\n",
       "    </tr>\n",
       "    <tr>\n",
       "      <th>70-79</th>\n",
       "      <td>6</td>\n",
       "      <td>0.12</td>\n",
       "      <td>12.0</td>\n",
       "    </tr>\n",
       "    <tr>\n",
       "      <th>80-89</th>\n",
       "      <td>8</td>\n",
       "      <td>0.16</td>\n",
       "      <td>16.0</td>\n",
       "    </tr>\n",
       "    <tr>\n",
       "      <th>90-99</th>\n",
       "      <td>11</td>\n",
       "      <td>0.22</td>\n",
       "      <td>22.0</td>\n",
       "    </tr>\n",
       "    <tr>\n",
       "      <th>100-109</th>\n",
       "      <td>9</td>\n",
       "      <td>0.18</td>\n",
       "      <td>18.0</td>\n",
       "    </tr>\n",
       "    <tr>\n",
       "      <th>110-119</th>\n",
       "      <td>7</td>\n",
       "      <td>0.14</td>\n",
       "      <td>14.0</td>\n",
       "    </tr>\n",
       "    <tr>\n",
       "      <th>120-129</th>\n",
       "      <td>4</td>\n",
       "      <td>0.08</td>\n",
       "      <td>8.0</td>\n",
       "    </tr>\n",
       "    <tr>\n",
       "      <th>130-139</th>\n",
       "      <td>2</td>\n",
       "      <td>0.04</td>\n",
       "      <td>4.0</td>\n",
       "    </tr>\n",
       "    <tr>\n",
       "      <th>140-149</th>\n",
       "      <td>1</td>\n",
       "      <td>0.02</td>\n",
       "      <td>2.0</td>\n",
       "    </tr>\n",
       "  </tbody>\n",
       "</table>\n",
       "</div>"
      ],
      "text/plain": [
       "         Frequency  Relative Frequency  Percent Frequency\n",
       "60-69            2                0.04                4.0\n",
       "70-79            6                0.12               12.0\n",
       "80-89            8                0.16               16.0\n",
       "90-99           11                0.22               22.0\n",
       "100-109          9                0.18               18.0\n",
       "110-119          7                0.14               14.0\n",
       "120-129          4                0.08                8.0\n",
       "130-139          2                0.04                4.0\n",
       "140-149          1                0.02                2.0"
      ]
     },
     "execution_count": 18,
     "metadata": {},
     "output_type": "execute_result"
    }
   ],
   "source": [
    "total_num = sum(quan_table[\"Frequency\"])\n",
    "quan_table[\"Percent Frequency\"] = quan_table[\"Relative Frequency\"] * 100\n",
    "quan_table"
   ]
  },
  {
   "cell_type": "markdown",
   "id": "1433ed6a",
   "metadata": {},
   "source": [
    "## 2-4. Dot Plot"
   ]
  },
  {
   "cell_type": "markdown",
   "id": "50fe7988",
   "metadata": {},
   "source": [
    "✅ **numpy.meshgrid**\n",
    "\n",
    "* This function returns coordinate matrices from coordinate vectors.\n",
    "* https://numpy.org/doc/stable/reference/generated/numpy.meshgrid.html\n",
    "\n",
    "✅ **pandas.DataFrame.reindex**\n",
    "\n",
    "* This function helps to conform Series/DataFrame to new index with optional filling logic.\n",
    "* https://pandas.pydata.org/docs/reference/api/pandas.DataFrame.reindex.html\n",
    "\n",
    "✅ **numpy.expand_dims**\n",
    "\n",
    "* This function expands the shape of an array.\n",
    "* https://numpy.org/doc/stable/reference/generated/numpy.expand_dims.html"
   ]
  },
  {
   "cell_type": "code",
   "execution_count": 19,
   "id": "7ab1b012",
   "metadata": {},
   "outputs": [],
   "source": [
    "x = np.arange(min(quan_data.Correct), max(quan_data.Correct)+1)\n",
    "\n",
    "# pandas.DataFrame.reindex function was used to handle unobserved values.\n",
    "# ✅ pandas.DataFrame.reindex\n",
    "freq = quan_data.Correct.value_counts().reindex(x, fill_value=0)\n",
    "\n",
    "# To compare frequency with Y coordinate, the dimensions of them should be matched.\n",
    "# ✅ numpy.expand_dims\n",
    "freq = np.expand_dims(freq.values, axis=0)\n",
    "\n",
    "y = np.arange(1,freq.max()+5)\n",
    "\n",
    "# To make a dot plot, get all coordinates in x,y range by using numpy.meshgrid.\n",
    "# ✅ numpy.meshgrid\n",
    "X, Y = np.meshgrid(x,y)"
   ]
  },
  {
   "cell_type": "markdown",
   "id": "8bd742ad",
   "metadata": {},
   "source": [
    "✅ **matplotlib.pyplot.scatter**\n",
    "\n",
    "* This function scatters data points.\n",
    "* https://matplotlib.org/stable/api/_as_gen/matplotlib.pyplot.scatter.html\n"
   ]
  },
  {
   "cell_type": "code",
   "execution_count": 20,
   "id": "46cc3c9f",
   "metadata": {},
   "outputs": [
    {
     "data": {
      "image/png": "[encoded data removed]",
      "text/plain": [
       "<Figure size 1440x108 with 1 Axes>"
      ]
     },
     "metadata": {
      "needs_background": "light"
     },
     "output_type": "display_data"
    }
   ],
   "source": [
    "plt.figure(figsize=(20, 1.5))\n",
    "\n",
    "# Do not plot when y coordinate is over the frequency of the corresponding value. \n",
    "# Therefore, it can show the frequency of the values.\n",
    "plt.scatter(X,Y, c=Y<=freq, cmap=\"Greys\") # ✅ matplotlib.pyplot.scatter\n",
    "\n",
    "# Do not show the y-axis\n",
    "plt.gca().axes.yaxis.set_visible(False)\n",
    "\n",
    "plt.xlabel('Correct', fontsize=15)\n",
    "plt.show()"
   ]
  },
  {
   "cell_type": "code",
   "execution_count": 21,
   "id": "8ffdeb4b",
   "metadata": {},
   "outputs": [
    {
     "data": {
      "text/html": [
       "<div>\n",
       "<style scoped>\n",
       "    .dataframe tbody tr th:only-of-type {\n",
       "        vertical-align: middle;\n",
       "    }\n",
       "\n",
       "    .dataframe tbody tr th {\n",
       "        vertical-align: top;\n",
       "    }\n",
       "\n",
       "    .dataframe thead th {\n",
       "        text-align: right;\n",
       "    }\n",
       "</style>\n",
       "<table border=\"1\" class=\"dataframe\">\n",
       "  <thead>\n",
       "    <tr style=\"text-align: right;\">\n",
       "      <th></th>\n",
       "      <th>Frequency</th>\n",
       "      <th>Relative Frequency</th>\n",
       "      <th>Percent Frequency</th>\n",
       "    </tr>\n",
       "  </thead>\n",
       "  <tbody>\n",
       "    <tr>\n",
       "      <th>60-69</th>\n",
       "      <td>2</td>\n",
       "      <td>0.04</td>\n",
       "      <td>4.0</td>\n",
       "    </tr>\n",
       "    <tr>\n",
       "      <th>70-79</th>\n",
       "      <td>6</td>\n",
       "      <td>0.12</td>\n",
       "      <td>12.0</td>\n",
       "    </tr>\n",
       "    <tr>\n",
       "      <th>80-89</th>\n",
       "      <td>8</td>\n",
       "      <td>0.16</td>\n",
       "      <td>16.0</td>\n",
       "    </tr>\n",
       "    <tr>\n",
       "      <th>90-99</th>\n",
       "      <td>11</td>\n",
       "      <td>0.22</td>\n",
       "      <td>22.0</td>\n",
       "    </tr>\n",
       "    <tr>\n",
       "      <th>100-109</th>\n",
       "      <td>9</td>\n",
       "      <td>0.18</td>\n",
       "      <td>18.0</td>\n",
       "    </tr>\n",
       "    <tr>\n",
       "      <th>110-119</th>\n",
       "      <td>7</td>\n",
       "      <td>0.14</td>\n",
       "      <td>14.0</td>\n",
       "    </tr>\n",
       "    <tr>\n",
       "      <th>120-129</th>\n",
       "      <td>4</td>\n",
       "      <td>0.08</td>\n",
       "      <td>8.0</td>\n",
       "    </tr>\n",
       "    <tr>\n",
       "      <th>130-139</th>\n",
       "      <td>2</td>\n",
       "      <td>0.04</td>\n",
       "      <td>4.0</td>\n",
       "    </tr>\n",
       "    <tr>\n",
       "      <th>140-149</th>\n",
       "      <td>1</td>\n",
       "      <td>0.02</td>\n",
       "      <td>2.0</td>\n",
       "    </tr>\n",
       "  </tbody>\n",
       "</table>\n",
       "</div>"
      ],
      "text/plain": [
       "         Frequency  Relative Frequency  Percent Frequency\n",
       "60-69            2                0.04                4.0\n",
       "70-79            6                0.12               12.0\n",
       "80-89            8                0.16               16.0\n",
       "90-99           11                0.22               22.0\n",
       "100-109          9                0.18               18.0\n",
       "110-119          7                0.14               14.0\n",
       "120-129          4                0.08                8.0\n",
       "130-139          2                0.04                4.0\n",
       "140-149          1                0.02                2.0"
      ]
     },
     "execution_count": 21,
     "metadata": {},
     "output_type": "execute_result"
    }
   ],
   "source": [
    "quan_table"
   ]
  },
  {
   "cell_type": "markdown",
   "id": "129cb6c8",
   "metadata": {},
   "source": [
    "## 2-5. Histogram"
   ]
  },
  {
   "cell_type": "code",
   "execution_count": 22,
   "id": "f2b93ec9",
   "metadata": {},
   "outputs": [
    {
     "data": {
      "image/png": "[encoded data removed]",
      "text/plain": [
       "<Figure size 432x288 with 1 Axes>"
      ]
     },
     "metadata": {
      "needs_background": "light"
     },
     "output_type": "display_data"
    }
   ],
   "source": [
    "plt.hist(quan_data[\"Correct\"], bins=bins)\n",
    "\n",
    "plt.xlabel('Correct', fontsize=12)\n",
    "plt.ylabel('Frequency', fontsize=12)\n",
    "\n",
    "plt.show()"
   ]
  },
  {
   "cell_type": "markdown",
   "id": "73cc8384",
   "metadata": {},
   "source": [
    "## 2-6. Cumulative Frequency Distribution"
   ]
  },
  {
   "cell_type": "markdown",
   "id": "70b5c50f",
   "metadata": {},
   "source": [
    "✅ **pandas.DataFrame.cumsum**\n",
    "\n",
    "* This function returns cumulative sum over a DataFrame.\n",
    "* https://pandas.pydata.org/docs/reference/api/pandas.DataFrame.cumsum.html\n",
    "\n",
    "✅ **pandas.DataFrame.rename**\n",
    "\n",
    "* This function alters axes labels.\n",
    "* https://pandas.pydata.org/docs/reference/api/pandas.DataFrame.rename.html"
   ]
  },
  {
   "cell_type": "code",
   "execution_count": 23,
   "id": "5592b2c7",
   "metadata": {},
   "outputs": [
    {
     "data": {
      "text/html": [
       "<div>\n",
       "<style scoped>\n",
       "    .dataframe tbody tr th:only-of-type {\n",
       "        vertical-align: middle;\n",
       "    }\n",
       "\n",
       "    .dataframe tbody tr th {\n",
       "        vertical-align: top;\n",
       "    }\n",
       "\n",
       "    .dataframe thead th {\n",
       "        text-align: right;\n",
       "    }\n",
       "</style>\n",
       "<table border=\"1\" class=\"dataframe\">\n",
       "  <thead>\n",
       "    <tr style=\"text-align: right;\">\n",
       "      <th></th>\n",
       "      <th>Cumulative Frequency</th>\n",
       "    </tr>\n",
       "  </thead>\n",
       "  <tbody>\n",
       "    <tr>\n",
       "      <th>&lt;=69</th>\n",
       "      <td>2</td>\n",
       "    </tr>\n",
       "    <tr>\n",
       "      <th>&lt;=79</th>\n",
       "      <td>8</td>\n",
       "    </tr>\n",
       "    <tr>\n",
       "      <th>&lt;=89</th>\n",
       "      <td>16</td>\n",
       "    </tr>\n",
       "    <tr>\n",
       "      <th>&lt;=99</th>\n",
       "      <td>27</td>\n",
       "    </tr>\n",
       "    <tr>\n",
       "      <th>&lt;=109</th>\n",
       "      <td>36</td>\n",
       "    </tr>\n",
       "    <tr>\n",
       "      <th>&lt;=119</th>\n",
       "      <td>43</td>\n",
       "    </tr>\n",
       "    <tr>\n",
       "      <th>&lt;=129</th>\n",
       "      <td>47</td>\n",
       "    </tr>\n",
       "    <tr>\n",
       "      <th>&lt;=139</th>\n",
       "      <td>49</td>\n",
       "    </tr>\n",
       "    <tr>\n",
       "      <th>&lt;=149</th>\n",
       "      <td>50</td>\n",
       "    </tr>\n",
       "  </tbody>\n",
       "</table>\n",
       "</div>"
      ],
      "text/plain": [
       "       Cumulative Frequency\n",
       "<=69                      2\n",
       "<=79                      8\n",
       "<=89                     16\n",
       "<=99                     27\n",
       "<=109                    36\n",
       "<=119                    43\n",
       "<=129                    47\n",
       "<=139                    49\n",
       "<=149                    50"
      ]
     },
     "execution_count": 23,
     "metadata": {},
     "output_type": "execute_result"
    }
   ],
   "source": [
    "cum_table = pd.DataFrame(quan_table[\"Frequency\"].cumsum()) # ✅ pandas.DataFrame.cumsum\n",
    "cum_table.rename(index=lambda x:'<='+x.split('-')[-1], inplace=True) # ✅ pandas.DataFrame.rename\n",
    "cum_table.columns = ['Cumulative Frequency']\n",
    "cum_table"
   ]
  },
  {
   "cell_type": "markdown",
   "id": "53258a7e",
   "metadata": {},
   "source": [
    "✅ **numpy.round**\n",
    "\n",
    "* This function rounds an array to the given number of decimals.\n",
    "* https://numpy.org/doc/stable/reference/generated/numpy.round_.html"
   ]
  },
  {
   "cell_type": "code",
   "execution_count": 24,
   "id": "84f314b2",
   "metadata": {},
   "outputs": [
    {
     "data": {
      "text/html": [
       "<div>\n",
       "<style scoped>\n",
       "    .dataframe tbody tr th:only-of-type {\n",
       "        vertical-align: middle;\n",
       "    }\n",
       "\n",
       "    .dataframe tbody tr th {\n",
       "        vertical-align: top;\n",
       "    }\n",
       "\n",
       "    .dataframe thead th {\n",
       "        text-align: right;\n",
       "    }\n",
       "</style>\n",
       "<table border=\"1\" class=\"dataframe\">\n",
       "  <thead>\n",
       "    <tr style=\"text-align: right;\">\n",
       "      <th></th>\n",
       "      <th>Cumulative Frequency</th>\n",
       "      <th>Cumulative Relative Frequency</th>\n",
       "    </tr>\n",
       "  </thead>\n",
       "  <tbody>\n",
       "    <tr>\n",
       "      <th>&lt;=69</th>\n",
       "      <td>2</td>\n",
       "      <td>0.01</td>\n",
       "    </tr>\n",
       "    <tr>\n",
       "      <th>&lt;=79</th>\n",
       "      <td>8</td>\n",
       "      <td>0.03</td>\n",
       "    </tr>\n",
       "    <tr>\n",
       "      <th>&lt;=89</th>\n",
       "      <td>16</td>\n",
       "      <td>0.06</td>\n",
       "    </tr>\n",
       "    <tr>\n",
       "      <th>&lt;=99</th>\n",
       "      <td>27</td>\n",
       "      <td>0.10</td>\n",
       "    </tr>\n",
       "    <tr>\n",
       "      <th>&lt;=109</th>\n",
       "      <td>36</td>\n",
       "      <td>0.13</td>\n",
       "    </tr>\n",
       "    <tr>\n",
       "      <th>&lt;=119</th>\n",
       "      <td>43</td>\n",
       "      <td>0.15</td>\n",
       "    </tr>\n",
       "    <tr>\n",
       "      <th>&lt;=129</th>\n",
       "      <td>47</td>\n",
       "      <td>0.17</td>\n",
       "    </tr>\n",
       "    <tr>\n",
       "      <th>&lt;=139</th>\n",
       "      <td>49</td>\n",
       "      <td>0.18</td>\n",
       "    </tr>\n",
       "    <tr>\n",
       "      <th>&lt;=149</th>\n",
       "      <td>50</td>\n",
       "      <td>0.18</td>\n",
       "    </tr>\n",
       "  </tbody>\n",
       "</table>\n",
       "</div>"
      ],
      "text/plain": [
       "       Cumulative Frequency  Cumulative Relative Frequency\n",
       "<=69                      2                           0.01\n",
       "<=79                      8                           0.03\n",
       "<=89                     16                           0.06\n",
       "<=99                     27                           0.10\n",
       "<=109                    36                           0.13\n",
       "<=119                    43                           0.15\n",
       "<=129                    47                           0.17\n",
       "<=139                    49                           0.18\n",
       "<=149                    50                           0.18"
      ]
     },
     "execution_count": 24,
     "metadata": {},
     "output_type": "execute_result"
    }
   ],
   "source": [
    "total_num = sum(cum_table['Cumulative Frequency'])\n",
    "cum_table[\"Cumulative Relative Frequency\"] = np.round(cum_table['Cumulative Frequency'] / total_num, 2) # ✅ numpy.round\n",
    "cum_table"
   ]
  },
  {
   "cell_type": "code",
   "execution_count": 25,
   "id": "b77d60ad",
   "metadata": {},
   "outputs": [
    {
     "data": {
      "text/html": [
       "<div>\n",
       "<style scoped>\n",
       "    .dataframe tbody tr th:only-of-type {\n",
       "        vertical-align: middle;\n",
       "    }\n",
       "\n",
       "    .dataframe tbody tr th {\n",
       "        vertical-align: top;\n",
       "    }\n",
       "\n",
       "    .dataframe thead th {\n",
       "        text-align: right;\n",
       "    }\n",
       "</style>\n",
       "<table border=\"1\" class=\"dataframe\">\n",
       "  <thead>\n",
       "    <tr style=\"text-align: right;\">\n",
       "      <th></th>\n",
       "      <th>Cumulative Frequency</th>\n",
       "      <th>Cumulative Relative Frequency</th>\n",
       "      <th>Cumulative Percent Frequency</th>\n",
       "    </tr>\n",
       "  </thead>\n",
       "  <tbody>\n",
       "    <tr>\n",
       "      <th>&lt;=69</th>\n",
       "      <td>2</td>\n",
       "      <td>0.01</td>\n",
       "      <td>1.0</td>\n",
       "    </tr>\n",
       "    <tr>\n",
       "      <th>&lt;=79</th>\n",
       "      <td>8</td>\n",
       "      <td>0.03</td>\n",
       "      <td>3.0</td>\n",
       "    </tr>\n",
       "    <tr>\n",
       "      <th>&lt;=89</th>\n",
       "      <td>16</td>\n",
       "      <td>0.06</td>\n",
       "      <td>6.0</td>\n",
       "    </tr>\n",
       "    <tr>\n",
       "      <th>&lt;=99</th>\n",
       "      <td>27</td>\n",
       "      <td>0.10</td>\n",
       "      <td>10.0</td>\n",
       "    </tr>\n",
       "    <tr>\n",
       "      <th>&lt;=109</th>\n",
       "      <td>36</td>\n",
       "      <td>0.13</td>\n",
       "      <td>13.0</td>\n",
       "    </tr>\n",
       "    <tr>\n",
       "      <th>&lt;=119</th>\n",
       "      <td>43</td>\n",
       "      <td>0.15</td>\n",
       "      <td>15.0</td>\n",
       "    </tr>\n",
       "    <tr>\n",
       "      <th>&lt;=129</th>\n",
       "      <td>47</td>\n",
       "      <td>0.17</td>\n",
       "      <td>17.0</td>\n",
       "    </tr>\n",
       "    <tr>\n",
       "      <th>&lt;=139</th>\n",
       "      <td>49</td>\n",
       "      <td>0.18</td>\n",
       "      <td>18.0</td>\n",
       "    </tr>\n",
       "    <tr>\n",
       "      <th>&lt;=149</th>\n",
       "      <td>50</td>\n",
       "      <td>0.18</td>\n",
       "      <td>18.0</td>\n",
       "    </tr>\n",
       "  </tbody>\n",
       "</table>\n",
       "</div>"
      ],
      "text/plain": [
       "       Cumulative Frequency  Cumulative Relative Frequency  \\\n",
       "<=69                      2                           0.01   \n",
       "<=79                      8                           0.03   \n",
       "<=89                     16                           0.06   \n",
       "<=99                     27                           0.10   \n",
       "<=109                    36                           0.13   \n",
       "<=119                    43                           0.15   \n",
       "<=129                    47                           0.17   \n",
       "<=139                    49                           0.18   \n",
       "<=149                    50                           0.18   \n",
       "\n",
       "       Cumulative Percent Frequency  \n",
       "<=69                            1.0  \n",
       "<=79                            3.0  \n",
       "<=89                            6.0  \n",
       "<=99                           10.0  \n",
       "<=109                          13.0  \n",
       "<=119                          15.0  \n",
       "<=129                          17.0  \n",
       "<=139                          18.0  \n",
       "<=149                          18.0  "
      ]
     },
     "execution_count": 25,
     "metadata": {},
     "output_type": "execute_result"
    }
   ],
   "source": [
    "cum_table[\"Cumulative Percent Frequency\"] = cum_table[\"Cumulative Relative Frequency\"] * 100\n",
    "cum_table"
   ]
  },
  {
   "cell_type": "markdown",
   "id": "f01a239b",
   "metadata": {},
   "source": [
    "✅ **numpy.array**\n",
    "\n",
    "* This function converts an object to a numpy array.\n",
    "* https://numpy.org/doc/stable/reference/generated/numpy.array.html\n",
    "\n",
    "✅ **matplotlib.pyplot.plot**\n",
    "\n",
    "* This function plots y versus x as lines and/or markers.\n",
    "* https://matplotlib.org/stable/api/_as_gen/matplotlib.pyplot.plot.html"
   ]
  },
  {
   "cell_type": "code",
   "execution_count": 26,
   "id": "054f303c",
   "metadata": {},
   "outputs": [
    {
     "data": {
      "image/png": "[encoded data removed]",
      "text/plain": [
       "<Figure size 432x288 with 1 Axes>"
      ]
     },
     "metadata": {
      "needs_background": "light"
     },
     "output_type": "display_data"
    }
   ],
   "source": [
    "# To elminate the gaps between class limits, we need to plot points halfway between the class limits.\n",
    "x = np.array(bins[1:]) - 0.5 # ✅ numpy.array\n",
    "\n",
    "y = cum_table['Cumulative Frequency'].values\n",
    "\n",
    "plt.xlabel('Correct', fontsize=12)\n",
    "plt.ylabel('Frequency', fontsize=12)\n",
    "\n",
    "# ✅ matplotlib.pyplot.plot\n",
    "plt.plot(x,y, 'ro') # plot x and y using red circle markers\n",
    "plt.plot(x,y) # plot x and y using default line style and color\n",
    "\n",
    "plt.show()"
   ]
  }
 ],
 "metadata": {
  "kernelspec": {
   "display_name": "Python 3.9.12 ('base')",
   "language": "python",
   "name": "python3"
  },
  "language_info": {
   "codemirror_mode": {
    "name": "ipython",
    "version": 3
   },
   "file_extension": ".py",
   "mimetype": "text/x-python",
   "name": "python",
   "nbconvert_exporter": "python",
   "pygments_lexer": "ipython3",
   "version": "3.9.12"
  },
  "vscode": {
   "interpreter": {
    "hash": "a077222d77dfe082b8f1dd562ad70e458ac2ab76993a0b248ab0476e32e9e8dd"
   }
  }
 },
 "nbformat": 4,
 "nbformat_minor": 5
}
