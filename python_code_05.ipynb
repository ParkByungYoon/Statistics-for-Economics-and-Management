{
 "cells": [
  {
   "cell_type": "markdown",
   "metadata": {},
   "source": [
    "## 0. Import Modules"
   ]
  },
  {
   "cell_type": "code",
   "execution_count": 6,
   "metadata": {},
   "outputs": [],
   "source": [
    "import numpy as np\n",
    "import pandas as pd\n",
    "import matplotlib.pyplot as plt\n",
    "from scipy import stats"
   ]
  },
  {
   "cell_type": "code",
   "execution_count": 7,
   "metadata": {},
   "outputs": [
    {
     "data": {
      "text/html": [
       "<div>\n",
       "<style scoped>\n",
       "    .dataframe tbody tr th:only-of-type {\n",
       "        vertical-align: middle;\n",
       "    }\n",
       "\n",
       "    .dataframe tbody tr th {\n",
       "        vertical-align: top;\n",
       "    }\n",
       "\n",
       "    .dataframe thead th {\n",
       "        text-align: right;\n",
       "    }\n",
       "</style>\n",
       "<table border=\"1\" class=\"dataframe\">\n",
       "  <thead>\n",
       "    <tr style=\"text-align: right;\">\n",
       "      <th></th>\n",
       "      <th>Country Name</th>\n",
       "      <th>Country Code</th>\n",
       "      <th>School enrollment, tertiary (% gross)</th>\n",
       "      <th>Population density (people per sq. km of land area)</th>\n",
       "    </tr>\n",
       "  </thead>\n",
       "  <tbody>\n",
       "    <tr>\n",
       "      <th>1</th>\n",
       "      <td>Bahrain</td>\n",
       "      <td>BHR</td>\n",
       "      <td>55.628510</td>\n",
       "      <td>2095.994891</td>\n",
       "    </tr>\n",
       "    <tr>\n",
       "      <th>2</th>\n",
       "      <td>Maldives</td>\n",
       "      <td>MDV</td>\n",
       "      <td>34.121941</td>\n",
       "      <td>1769.856667</td>\n",
       "    </tr>\n",
       "    <tr>\n",
       "      <th>3</th>\n",
       "      <td>Malta</td>\n",
       "      <td>MLT</td>\n",
       "      <td>64.872910</td>\n",
       "      <td>1575.193750</td>\n",
       "    </tr>\n",
       "    <tr>\n",
       "      <th>4</th>\n",
       "      <td>Bangladesh</td>\n",
       "      <td>BGD</td>\n",
       "      <td>24.016890</td>\n",
       "      <td>1252.563363</td>\n",
       "    </tr>\n",
       "    <tr>\n",
       "      <th>5</th>\n",
       "      <td>West Bank and Gaza</td>\n",
       "      <td>PSE</td>\n",
       "      <td>43.235481</td>\n",
       "      <td>778.290033</td>\n",
       "    </tr>\n",
       "  </tbody>\n",
       "</table>\n",
       "</div>"
      ],
      "text/plain": [
       "         Country Name Country Code  School enrollment, tertiary (% gross)  \\\n",
       "1             Bahrain          BHR                              55.628510   \n",
       "2            Maldives          MDV                              34.121941   \n",
       "3               Malta          MLT                              64.872910   \n",
       "4          Bangladesh          BGD                              24.016890   \n",
       "5  West Bank and Gaza          PSE                              43.235481   \n",
       "\n",
       "   Population density (people per sq. km of land area)  \n",
       "1                                        2095.994891    \n",
       "2                                        1769.856667    \n",
       "3                                        1575.193750    \n",
       "4                                        1252.563363    \n",
       "5                                         778.290033    "
      ]
     },
     "execution_count": 7,
     "metadata": {},
     "output_type": "execute_result"
    }
   ],
   "source": [
    "data = pd.read_excel('sample_data_populationdensity_schoolenrollment.xls')\n",
    "\n",
    "# remove outlier\n",
    "data = data[1:]\n",
    "data.head()"
   ]
  },
  {
   "cell_type": "markdown",
   "metadata": {},
   "source": [
    "## 1. Test for Difference between Two Population Means"
   ]
  },
  {
   "cell_type": "markdown",
   "metadata": {},
   "source": [
    "### Divide your data into two groups using median"
   ]
  },
  {
   "cell_type": "code",
   "execution_count": 8,
   "metadata": {},
   "outputs": [],
   "source": [
    "p_col = 'Population density (people per sq. km of land area)'\n",
    "s_col = 'School enrollment, tertiary (% gross)'\n",
    "\n",
    "cutting_point = data[p_col].median()\n",
    "cond = data[p_col] > cutting_point\n",
    "\n",
    "group1, group2 = data[cond], data[~cond]"
   ]
  },
  {
   "cell_type": "code",
   "execution_count": 16,
   "metadata": {},
   "outputs": [],
   "source": [
    "mean1 = group1[s_col].mean()\n",
    "mean2 = group2[s_col].mean()\n",
    "\n",
    "var1 = group1[s_col].var(ddof=1) # the divisor used in the calculation is N - ddof\n",
    "var2 = group2[s_col].var(ddof=1)\n",
    "\n",
    "n1 = len(group1[s_col])\n",
    "n2 = len(group2[s_col])"
   ]
  },
  {
   "cell_type": "code",
   "execution_count": 17,
   "metadata": {},
   "outputs": [
    {
     "data": {
      "text/html": [
       "<div>\n",
       "<style scoped>\n",
       "    .dataframe tbody tr th:only-of-type {\n",
       "        vertical-align: middle;\n",
       "    }\n",
       "\n",
       "    .dataframe tbody tr th {\n",
       "        vertical-align: top;\n",
       "    }\n",
       "\n",
       "    .dataframe thead th {\n",
       "        text-align: right;\n",
       "    }\n",
       "</style>\n",
       "<table border=\"1\" class=\"dataframe\">\n",
       "  <thead>\n",
       "    <tr style=\"text-align: right;\">\n",
       "      <th></th>\n",
       "      <th>Group 1</th>\n",
       "      <th>Group 2</th>\n",
       "    </tr>\n",
       "  </thead>\n",
       "  <tbody>\n",
       "    <tr>\n",
       "      <th>Mean</th>\n",
       "      <td>46.001667</td>\n",
       "      <td>51.384338</td>\n",
       "    </tr>\n",
       "    <tr>\n",
       "      <th>Variance</th>\n",
       "      <td>684.344257</td>\n",
       "      <td>1032.127494</td>\n",
       "    </tr>\n",
       "    <tr>\n",
       "      <th>Observations</th>\n",
       "      <td>59.000000</td>\n",
       "      <td>60.000000</td>\n",
       "    </tr>\n",
       "  </tbody>\n",
       "</table>\n",
       "</div>"
      ],
      "text/plain": [
       "                 Group 1      Group 2\n",
       "Mean           46.001667    51.384338\n",
       "Variance      684.344257  1032.127494\n",
       "Observations   59.000000    60.000000"
      ]
     },
     "execution_count": 17,
     "metadata": {},
     "output_type": "execute_result"
    }
   ],
   "source": [
    "group1_data = {}\n",
    "group1_data['Mean'] = mean1\n",
    "group1_data['Variance'] = var1\n",
    "group1_data['Observations'] = n1\n",
    "\n",
    "group2_data = {}\n",
    "group2_data['Mean'] = mean2\n",
    "group2_data['Variance'] = var2\n",
    "group2_data['Observations'] = n2\n",
    "\n",
    "group_table = pd.DataFrame({'Group 1' : group1_data, 'Group 2':group2_data},)\n",
    "group_table"
   ]
  },
  {
   "cell_type": "markdown",
   "metadata": {},
   "source": [
    "### Compute the value of the test statistic.\n"
   ]
  },
  {
   "cell_type": "markdown",
   "metadata": {},
   "source": [
    "### $ t = \\frac{\\bar{x_1} - \\bar{x_2}}{\\sqrt{\\frac{(s_1)^2}{n_1} + \\frac{(s_2)^2}{n_2}}}$"
   ]
  },
  {
   "cell_type": "code",
   "execution_count": 18,
   "metadata": {},
   "outputs": [
    {
     "name": "stdout",
     "output_type": "stream",
     "text": [
      "Test Statistic: -1.0029810681786937\n"
     ]
    }
   ],
   "source": [
    "t_term1 = mean1 - mean2\n",
    "t_term2 = np.sqrt((var1 / n1) + (var2 / n2))\n",
    "t = t_term1 / t_term2\n",
    "\n",
    "print(f'Test Statistic: {t}')"
   ]
  },
  {
   "cell_type": "markdown",
   "metadata": {},
   "source": [
    "### Compute the degree of freedom."
   ]
  },
  {
   "cell_type": "markdown",
   "metadata": {},
   "source": [
    "### $df = \\frac{[({s_1}^2/n_1) + ({s_2}^2/n_2)]^2}{\\frac{{({s_1}^2/n_1)}^2}{n_1-1} + \\frac{{({s_2}^2/n_2)}^2}{n_2-1}}$"
   ]
  },
  {
   "cell_type": "code",
   "execution_count": 22,
   "metadata": {},
   "outputs": [
    {
     "name": "stdout",
     "output_type": "stream",
     "text": [
      "Degree of Freedom: 113.08750498357395\n"
     ]
    }
   ],
   "source": [
    "df_term1 = np.power((var1/n1 + var2/n2), 2)\n",
    "df_term2 = (np.power(var1/n1, 2) / (n1-1)) + (np.power(var2/n2, 2) / (n2-1))\n",
    "\n",
    "df = df_term1 / df_term2\n",
    "print(f'Degree of Freedom: {df}')"
   ]
  },
  {
   "cell_type": "markdown",
   "metadata": {},
   "source": [
    "### Find the p-value"
   ]
  },
  {
   "cell_type": "code",
   "execution_count": 37,
   "metadata": {},
   "outputs": [
    {
     "name": "stdout",
     "output_type": "stream",
     "text": [
      "p_value: 0.15900564057364724\n"
     ]
    }
   ],
   "source": [
    "p_value = stats.t.cdf(t, df=df)\n",
    "print(f'p_value: {p_value}')"
   ]
  },
  {
   "cell_type": "code",
   "execution_count": 38,
   "metadata": {},
   "outputs": [
    {
     "data": {
      "text/html": [
       "<div>\n",
       "<style scoped>\n",
       "    .dataframe tbody tr th:only-of-type {\n",
       "        vertical-align: middle;\n",
       "    }\n",
       "\n",
       "    .dataframe tbody tr th {\n",
       "        vertical-align: top;\n",
       "    }\n",
       "\n",
       "    .dataframe thead th {\n",
       "        text-align: right;\n",
       "    }\n",
       "</style>\n",
       "<table border=\"1\" class=\"dataframe\">\n",
       "  <thead>\n",
       "    <tr style=\"text-align: right;\">\n",
       "      <th></th>\n",
       "      <th>t-Test</th>\n",
       "    </tr>\n",
       "  </thead>\n",
       "  <tbody>\n",
       "    <tr>\n",
       "      <th>P(T&lt;=t) one tail</th>\n",
       "      <td>0.159006</td>\n",
       "    </tr>\n",
       "    <tr>\n",
       "      <th>P(T&lt;=t) two tail</th>\n",
       "      <td>0.318011</td>\n",
       "    </tr>\n",
       "    <tr>\n",
       "      <th>df</th>\n",
       "      <td>113.087505</td>\n",
       "    </tr>\n",
       "    <tr>\n",
       "      <th>t Critical one-tail</th>\n",
       "      <td>-1.658440</td>\n",
       "    </tr>\n",
       "    <tr>\n",
       "      <th>t Critical two-tail</th>\n",
       "      <td>-1.981164</td>\n",
       "    </tr>\n",
       "    <tr>\n",
       "      <th>t Stat</th>\n",
       "      <td>-1.002981</td>\n",
       "    </tr>\n",
       "  </tbody>\n",
       "</table>\n",
       "</div>"
      ],
      "text/plain": [
       "                         t-Test\n",
       "P(T<=t) one tail       0.159006\n",
       "P(T<=t) two tail       0.318011\n",
       "df                   113.087505\n",
       "t Critical one-tail   -1.658440\n",
       "t Critical two-tail   -1.981164\n",
       "t Stat                -1.002981"
      ]
     },
     "execution_count": 38,
     "metadata": {},
     "output_type": "execute_result"
    }
   ],
   "source": [
    "ttest_table = pd.DataFrame(\n",
    "{'t-Test':\n",
    "    {\n",
    "        'df': df, \n",
    "        't Stat': t, \n",
    "        'P(T<=t) one tail': p_value,\n",
    "        't Critical one-tail': stats.t.ppf(q=.05,df=df),\n",
    "        't Critical two-tail': stats.t.ppf(q=.025,df=df),\n",
    "        'P(T<=t) two tail': p_value*2,\n",
    "    }\n",
    "})\n",
    "ttest_table"
   ]
  },
  {
   "cell_type": "markdown",
   "metadata": {},
   "source": [
    "## 2. Test for the Equality of k Population Means"
   ]
  },
  {
   "cell_type": "markdown",
   "metadata": {},
   "source": [
    "### Divide your data into four groups using quartile"
   ]
  },
  {
   "cell_type": "code",
   "execution_count": 39,
   "metadata": {},
   "outputs": [],
   "source": [
    "data['Quartile']= pd.qcut(data[p_col], [0, .25, .5, .75, 1.]) # k = 4\n",
    "(_, group1), (_, group2), (_, group3), (_, group4) = data.groupby('Quartile')"
   ]
  },
  {
   "cell_type": "markdown",
   "metadata": {},
   "source": [
    "### SUMMARY"
   ]
  },
  {
   "cell_type": "code",
   "execution_count": 57,
   "metadata": {},
   "outputs": [
    {
     "data": {
      "text/html": [
       "<div>\n",
       "<style scoped>\n",
       "    .dataframe tbody tr th:only-of-type {\n",
       "        vertical-align: middle;\n",
       "    }\n",
       "\n",
       "    .dataframe tbody tr th {\n",
       "        vertical-align: top;\n",
       "    }\n",
       "\n",
       "    .dataframe thead tr th {\n",
       "        text-align: left;\n",
       "    }\n",
       "\n",
       "    .dataframe thead tr:last-of-type th {\n",
       "        text-align: right;\n",
       "    }\n",
       "</style>\n",
       "<table border=\"1\" class=\"dataframe\">\n",
       "  <thead>\n",
       "    <tr>\n",
       "      <th></th>\n",
       "      <th colspan=\"4\" halign=\"left\">School enrollment, tertiary (% gross)</th>\n",
       "    </tr>\n",
       "    <tr>\n",
       "      <th></th>\n",
       "      <th>count</th>\n",
       "      <th>sum</th>\n",
       "      <th>mean</th>\n",
       "      <th>var</th>\n",
       "    </tr>\n",
       "    <tr>\n",
       "      <th>Quartile</th>\n",
       "      <th></th>\n",
       "      <th></th>\n",
       "      <th></th>\n",
       "      <th></th>\n",
       "    </tr>\n",
       "  </thead>\n",
       "  <tbody>\n",
       "    <tr>\n",
       "      <th>(2.0700000000000003, 44.996]</th>\n",
       "      <td>30</td>\n",
       "      <td>1789.464810</td>\n",
       "      <td>59.648827</td>\n",
       "      <td>984.998945</td>\n",
       "    </tr>\n",
       "    <tr>\n",
       "      <th>(44.996, 92.782]</th>\n",
       "      <td>30</td>\n",
       "      <td>1293.595482</td>\n",
       "      <td>43.119849</td>\n",
       "      <td>973.532629</td>\n",
       "    </tr>\n",
       "    <tr>\n",
       "      <th>(92.782, 207.104]</th>\n",
       "      <td>29</td>\n",
       "      <td>1522.886629</td>\n",
       "      <td>52.513332</td>\n",
       "      <td>743.699510</td>\n",
       "    </tr>\n",
       "    <tr>\n",
       "      <th>(207.104, 2095.995]</th>\n",
       "      <td>30</td>\n",
       "      <td>1191.211705</td>\n",
       "      <td>39.707057</td>\n",
       "      <td>567.243636</td>\n",
       "    </tr>\n",
       "  </tbody>\n",
       "</table>\n",
       "</div>"
      ],
      "text/plain": [
       "                             School enrollment, tertiary (% gross)  \\\n",
       "                                                             count   \n",
       "Quartile                                                             \n",
       "(2.0700000000000003, 44.996]                                    30   \n",
       "(44.996, 92.782]                                                30   \n",
       "(92.782, 207.104]                                               29   \n",
       "(207.104, 2095.995]                                             30   \n",
       "\n",
       "                                                                  \n",
       "                                      sum       mean         var  \n",
       "Quartile                                                          \n",
       "(2.0700000000000003, 44.996]  1789.464810  59.648827  984.998945  \n",
       "(44.996, 92.782]              1293.595482  43.119849  973.532629  \n",
       "(92.782, 207.104]             1522.886629  52.513332  743.699510  \n",
       "(207.104, 2095.995]           1191.211705  39.707057  567.243636  "
      ]
     },
     "execution_count": 57,
     "metadata": {},
     "output_type": "execute_result"
    }
   ],
   "source": [
    "group_summary = data[[s_col, 'Quartile']].groupby('Quartile')\n",
    "group_summary.agg(['count', 'sum', 'mean', 'var'])"
   ]
  },
  {
   "cell_type": "markdown",
   "metadata": {},
   "source": [
    "### Perform one-way ANOVA"
   ]
  },
  {
   "cell_type": "code",
   "execution_count": 9,
   "metadata": {},
   "outputs": [
    {
     "name": "stdout",
     "output_type": "stream",
     "text": [
      "F-Ratio: 3.0066130390511288, p-value: 0.03324034926172625\n"
     ]
    }
   ],
   "source": [
    "F, p = stats.f_oneway(\n",
    "    group1[s_col], \n",
    "    group2[s_col], \n",
    "    group3[s_col], \n",
    "    group4[s_col]\n",
    ")\n",
    "\n",
    "# The same code as above code.\n",
    "# group_list = [group[s_col] for _ , group in list(data.groupby('Quartile'))]\n",
    "# F, p = stats.f_oneway(*group_list)\n",
    "\n",
    "print(f'F-Ratio: {F}, p-value: {p}')"
   ]
  },
  {
   "cell_type": "markdown",
   "metadata": {},
   "source": [
    "### You can also get ANOVA table by using statsmodels package."
   ]
  },
  {
   "cell_type": "code",
   "execution_count": 10,
   "metadata": {},
   "outputs": [
    {
     "data": {
      "text/html": [
       "<div>\n",
       "<style scoped>\n",
       "    .dataframe tbody tr th:only-of-type {\n",
       "        vertical-align: middle;\n",
       "    }\n",
       "\n",
       "    .dataframe tbody tr th {\n",
       "        vertical-align: top;\n",
       "    }\n",
       "\n",
       "    .dataframe thead th {\n",
       "        text-align: right;\n",
       "    }\n",
       "</style>\n",
       "<table border=\"1\" class=\"dataframe\">\n",
       "  <thead>\n",
       "    <tr style=\"text-align: right;\">\n",
       "      <th></th>\n",
       "      <th>df</th>\n",
       "      <th>sum_sq</th>\n",
       "      <th>mean_sq</th>\n",
       "      <th>F</th>\n",
       "      <th>PR(&gt;F)</th>\n",
       "    </tr>\n",
       "  </thead>\n",
       "  <tbody>\n",
       "    <tr>\n",
       "      <th>C(group)</th>\n",
       "      <td>3.0</td>\n",
       "      <td>7378.312115</td>\n",
       "      <td>2459.437372</td>\n",
       "      <td>3.006613</td>\n",
       "      <td>0.03324</td>\n",
       "    </tr>\n",
       "    <tr>\n",
       "      <th>Residual</th>\n",
       "      <td>115.0</td>\n",
       "      <td>94071.067361</td>\n",
       "      <td>818.009281</td>\n",
       "      <td>NaN</td>\n",
       "      <td>NaN</td>\n",
       "    </tr>\n",
       "  </tbody>\n",
       "</table>\n",
       "</div>"
      ],
      "text/plain": [
       "             df        sum_sq      mean_sq         F   PR(>F)\n",
       "C(group)    3.0   7378.312115  2459.437372  3.006613  0.03324\n",
       "Residual  115.0  94071.067361   818.009281       NaN      NaN"
      ]
     },
     "execution_count": 10,
     "metadata": {},
     "output_type": "execute_result"
    }
   ],
   "source": [
    "from statsmodels.formula.api import ols\n",
    "from statsmodels.stats.anova import anova_lm\n",
    "\n",
    "temp = data[[s_col, 'Quartile']].copy()\n",
    "temp.columns = ['value', 'group']\n",
    "\n",
    "model = ols('value ~ C(group)', temp).fit()\n",
    "anova_lm(model)"
   ]
  },
  {
   "cell_type": "markdown",
   "metadata": {},
   "source": [
    "## 3. Linear Regression"
   ]
  },
  {
   "cell_type": "markdown",
   "metadata": {},
   "source": [
    "### Slope for the Estimated Regression Equation"
   ]
  },
  {
   "cell_type": "markdown",
   "metadata": {},
   "source": [
    "### $ b_1 = \\frac{\\sum{(x_i-\\bar{x})(y_i -\\bar{y})}}{\\sum{(x_i - \\bar{x})^2}}$"
   ]
  },
  {
   "cell_type": "code",
   "execution_count": 11,
   "metadata": {},
   "outputs": [],
   "source": [
    "mean_x = data[p_col].mean()\n",
    "mean_y = data[s_col].mean()"
   ]
  },
  {
   "cell_type": "code",
   "execution_count": 12,
   "metadata": {},
   "outputs": [
    {
     "data": {
      "text/plain": [
       "-0.008476437681019407"
      ]
     },
     "execution_count": 12,
     "metadata": {},
     "output_type": "execute_result"
    }
   ],
   "source": [
    "b1_term1 = np.sum((data[p_col] - mean_x)*(data[s_col] - mean_y))\n",
    "b1_term2 = np.sum(np.power(data[p_col] - mean_x, 2))\n",
    "\n",
    "b1 = b1_term1 / b1_term2\n",
    "b1"
   ]
  },
  {
   "cell_type": "markdown",
   "metadata": {},
   "source": [
    "### y-Intercept for the Estimated Regression Equation"
   ]
  },
  {
   "cell_type": "markdown",
   "metadata": {},
   "source": [
    "### $b_0 = \\bar{y} - b_1\\bar{x}$"
   ]
  },
  {
   "cell_type": "code",
   "execution_count": 13,
   "metadata": {},
   "outputs": [
    {
     "data": {
      "text/plain": [
       "50.31276597866713"
      ]
     },
     "execution_count": 13,
     "metadata": {},
     "output_type": "execute_result"
    }
   ],
   "source": [
    "b0 = mean_y - b1*mean_x\n",
    "b0"
   ]
  },
  {
   "cell_type": "markdown",
   "metadata": {},
   "source": [
    "### Estimated Regression Equation"
   ]
  },
  {
   "cell_type": "markdown",
   "metadata": {},
   "source": [
    "### $\\hat{y} = b_0 + b_1x$"
   ]
  },
  {
   "cell_type": "code",
   "execution_count": 14,
   "metadata": {},
   "outputs": [],
   "source": [
    "data['y_hat'] = b0 + b1*data[p_col]"
   ]
  },
  {
   "cell_type": "markdown",
   "metadata": {},
   "source": [
    "### Plot regression line"
   ]
  },
  {
   "cell_type": "code",
   "execution_count": 15,
   "metadata": {},
   "outputs": [
    {
     "data": {
      "image/png": "[encoded data removed]",
      "text/plain": [
       "<Figure size 432x288 with 1 Axes>"
      ]
     },
     "metadata": {
      "needs_background": "light"
     },
     "output_type": "display_data"
    }
   ],
   "source": [
    "plt.plot(data[p_col],data[s_col], 'o')\n",
    "plt.plot(data[p_col], data['y_hat'])\n",
    "plt.show()"
   ]
  },
  {
   "cell_type": "markdown",
   "metadata": {},
   "source": [
    "### Compare our results with results from sckit-learn"
   ]
  },
  {
   "cell_type": "code",
   "execution_count": 16,
   "metadata": {},
   "outputs": [
    {
     "name": "stdout",
     "output_type": "stream",
     "text": [
      "Requirement already satisfied: scikit-learn in c:\\users\\user\\anaconda3\\lib\\site-packages (1.0.2)\n",
      "Requirement already satisfied: scipy>=1.1.0 in c:\\users\\user\\anaconda3\\lib\\site-packages (from scikit-learn) (1.7.3)\n",
      "Requirement already satisfied: threadpoolctl>=2.0.0 in c:\\users\\user\\anaconda3\\lib\\site-packages (from scikit-learn) (2.2.0)\n",
      "Requirement already satisfied: numpy>=1.14.6 in c:\\users\\user\\anaconda3\\lib\\site-packages (from scikit-learn) (1.21.5)\n",
      "Requirement already satisfied: joblib>=0.11 in c:\\users\\user\\anaconda3\\lib\\site-packages (from scikit-learn) (1.1.0)\n"
     ]
    }
   ],
   "source": [
    "# Please insatll scikit-learn if the package was not installed.\n",
    "!pip install scikit-learn"
   ]
  },
  {
   "cell_type": "code",
   "execution_count": 61,
   "metadata": {},
   "outputs": [
    {
     "data": {
      "text/plain": [
       "(array([50.31276598]), array([[-0.00847644]]))"
      ]
     },
     "execution_count": 61,
     "metadata": {},
     "output_type": "execute_result"
    }
   ],
   "source": [
    "from sklearn.linear_model import LinearRegression\n",
    "\n",
    "X = data[p_col].values.reshape(-1,1)\n",
    "y = data[s_col].values.reshape(-1,1)\n",
    "\n",
    "reg = LinearRegression().fit(X, y)\n",
    "reg.intercept_, reg.coef_"
   ]
  },
  {
   "cell_type": "code",
   "execution_count": 62,
   "metadata": {},
   "outputs": [
    {
     "data": {
      "image/png": "[encoded data removed]",
      "text/plain": [
       "<Figure size 432x288 with 1 Axes>"
      ]
     },
     "metadata": {
      "needs_background": "light"
     },
     "output_type": "display_data"
    }
   ],
   "source": [
    "plt.plot(X,y, 'o')\n",
    "plt.plot(X, reg.predict(X))\n",
    "plt.show()"
   ]
  },
  {
   "cell_type": "markdown",
   "metadata": {},
   "source": [
    "### Error Term Plotting"
   ]
  },
  {
   "cell_type": "code",
   "execution_count": 79,
   "metadata": {},
   "outputs": [
    {
     "data": {
      "image/png": "[encoded data removed]",
      "text/plain": [
       "<Figure size 432x288 with 1 Axes>"
      ]
     },
     "metadata": {
      "needs_background": "light"
     },
     "output_type": "display_data"
    }
   ],
   "source": [
    "plt.plot(X, y-reg.predict(X), 'o')\n",
    "plt.show()"
   ]
  },
  {
   "cell_type": "markdown",
   "metadata": {},
   "source": [
    "### Recommend statsmodels if you want to get concrete results."
   ]
  },
  {
   "cell_type": "code",
   "execution_count": 67,
   "metadata": {},
   "outputs": [
    {
     "data": {
      "text/html": [
       "<table class=\"simpletable\">\n",
       "<caption>OLS Regression Results</caption>\n",
       "<tr>\n",
       "  <th>Dep. Variable:</th>            <td>y</td>        <th>  R-squared:         </th> <td>   0.008</td>\n",
       "</tr>\n",
       "<tr>\n",
       "  <th>Model:</th>                   <td>OLS</td>       <th>  Adj. R-squared:    </th> <td>  -0.000</td>\n",
       "</tr>\n",
       "<tr>\n",
       "  <th>Method:</th>             <td>Least Squares</td>  <th>  F-statistic:       </th> <td>  0.9986</td>\n",
       "</tr>\n",
       "<tr>\n",
       "  <th>Date:</th>             <td>Mon, 05 Dec 2022</td> <th>  Prob (F-statistic):</th>  <td> 0.320</td> \n",
       "</tr>\n",
       "<tr>\n",
       "  <th>Time:</th>                 <td>19:20:43</td>     <th>  Log-Likelihood:    </th> <td> -569.87</td>\n",
       "</tr>\n",
       "<tr>\n",
       "  <th>No. Observations:</th>      <td>   119</td>      <th>  AIC:               </th> <td>   1144.</td>\n",
       "</tr>\n",
       "<tr>\n",
       "  <th>Df Residuals:</th>          <td>   117</td>      <th>  BIC:               </th> <td>   1149.</td>\n",
       "</tr>\n",
       "<tr>\n",
       "  <th>Df Model:</th>              <td>     1</td>      <th>                     </th>     <td> </td>   \n",
       "</tr>\n",
       "<tr>\n",
       "  <th>Covariance Type:</th>      <td>nonrobust</td>    <th>                     </th>     <td> </td>   \n",
       "</tr>\n",
       "</table>\n",
       "<table class=\"simpletable\">\n",
       "<tr>\n",
       "    <td></td>       <th>coef</th>     <th>std err</th>      <th>t</th>      <th>P>|t|</th>  <th>[0.025</th>    <th>0.975]</th>  \n",
       "</tr>\n",
       "<tr>\n",
       "  <th>const</th> <td>   50.3128</td> <td>    3.127</td> <td>   16.089</td> <td> 0.000</td> <td>   44.120</td> <td>   56.506</td>\n",
       "</tr>\n",
       "<tr>\n",
       "  <th>x1</th>    <td>   -0.0085</td> <td>    0.008</td> <td>   -0.999</td> <td> 0.320</td> <td>   -0.025</td> <td>    0.008</td>\n",
       "</tr>\n",
       "</table>\n",
       "<table class=\"simpletable\">\n",
       "<tr>\n",
       "  <th>Omnibus:</th>       <td> 3.256</td> <th>  Durbin-Watson:     </th> <td>   2.128</td>\n",
       "</tr>\n",
       "<tr>\n",
       "  <th>Prob(Omnibus):</th> <td> 0.196</td> <th>  Jarque-Bera (JB):  </th> <td>   3.244</td>\n",
       "</tr>\n",
       "<tr>\n",
       "  <th>Skew:</th>          <td> 0.394</td> <th>  Prob(JB):          </th> <td>   0.198</td>\n",
       "</tr>\n",
       "<tr>\n",
       "  <th>Kurtosis:</th>      <td> 2.818</td> <th>  Cond. No.          </th> <td>    429.</td>\n",
       "</tr>\n",
       "</table><br/><br/>Notes:<br/>[1] Standard Errors assume that the covariance matrix of the errors is correctly specified."
      ],
      "text/plain": [
       "<class 'statsmodels.iolib.summary.Summary'>\n",
       "\"\"\"\n",
       "                            OLS Regression Results                            \n",
       "==============================================================================\n",
       "Dep. Variable:                      y   R-squared:                       0.008\n",
       "Model:                            OLS   Adj. R-squared:                 -0.000\n",
       "Method:                 Least Squares   F-statistic:                    0.9986\n",
       "Date:                Mon, 05 Dec 2022   Prob (F-statistic):              0.320\n",
       "Time:                        19:20:43   Log-Likelihood:                -569.87\n",
       "No. Observations:                 119   AIC:                             1144.\n",
       "Df Residuals:                     117   BIC:                             1149.\n",
       "Df Model:                           1                                         \n",
       "Covariance Type:            nonrobust                                         \n",
       "==============================================================================\n",
       "                 coef    std err          t      P>|t|      [0.025      0.975]\n",
       "------------------------------------------------------------------------------\n",
       "const         50.3128      3.127     16.089      0.000      44.120      56.506\n",
       "x1            -0.0085      0.008     -0.999      0.320      -0.025       0.008\n",
       "==============================================================================\n",
       "Omnibus:                        3.256   Durbin-Watson:                   2.128\n",
       "Prob(Omnibus):                  0.196   Jarque-Bera (JB):                3.244\n",
       "Skew:                           0.394   Prob(JB):                        0.198\n",
       "Kurtosis:                       2.818   Cond. No.                         429.\n",
       "==============================================================================\n",
       "\n",
       "Notes:\n",
       "[1] Standard Errors assume that the covariance matrix of the errors is correctly specified.\n",
       "\"\"\""
      ]
     },
     "execution_count": 67,
     "metadata": {},
     "output_type": "execute_result"
    }
   ],
   "source": [
    "from statsmodels.api import OLS\n",
    "from statsmodels.api import add_constant\n",
    "\n",
    "X2 = add_constant(X)\n",
    "est = OLS(y, X2)\n",
    "est = est.fit()\n",
    "\n",
    "est.summary()"
   ]
  }
 ],
 "metadata": {
  "kernelspec": {
   "display_name": "Python 3.9.12 ('base')",
   "language": "python",
   "name": "python3"
  },
  "language_info": {
   "codemirror_mode": {
    "name": "ipython",
    "version": 3
   },
   "file_extension": ".py",
   "mimetype": "text/x-python",
   "name": "python",
   "nbconvert_exporter": "python",
   "pygments_lexer": "ipython3",
   "version": "3.9.12"
  },
  "orig_nbformat": 4,
  "vscode": {
   "interpreter": {
    "hash": "a077222d77dfe082b8f1dd562ad70e458ac2ab76993a0b248ab0476e32e9e8dd"
   }
  }
 },
 "nbformat": 4,
 "nbformat_minor": 2
}
