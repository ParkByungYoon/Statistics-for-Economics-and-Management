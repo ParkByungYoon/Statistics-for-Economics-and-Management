{
 "cells": [
  {
   "cell_type": "markdown",
   "metadata": {},
   "source": [
    "## 0. Import Modules"
   ]
  },
  {
   "cell_type": "code",
   "execution_count": 1,
   "metadata": {},
   "outputs": [],
   "source": [
    "import numpy as np\n",
    "import pandas as pd\n",
    "import matplotlib.pyplot as plt"
   ]
  },
  {
   "cell_type": "markdown",
   "metadata": {},
   "source": [
    "# 1. Measures of Distribution Shape"
   ]
  },
  {
   "cell_type": "code",
   "execution_count": 2,
   "metadata": {},
   "outputs": [
    {
     "data": {
      "text/html": [
       "<div>\n",
       "<style scoped>\n",
       "    .dataframe tbody tr th:only-of-type {\n",
       "        vertical-align: middle;\n",
       "    }\n",
       "\n",
       "    .dataframe tbody tr th {\n",
       "        vertical-align: top;\n",
       "    }\n",
       "\n",
       "    .dataframe thead th {\n",
       "        text-align: right;\n",
       "    }\n",
       "</style>\n",
       "<table border=\"1\" class=\"dataframe\">\n",
       "  <thead>\n",
       "    <tr style=\"text-align: right;\">\n",
       "      <th></th>\n",
       "      <th>Correct</th>\n",
       "    </tr>\n",
       "  </thead>\n",
       "  <tbody>\n",
       "    <tr>\n",
       "      <th>0</th>\n",
       "      <td>112</td>\n",
       "    </tr>\n",
       "    <tr>\n",
       "      <th>1</th>\n",
       "      <td>73</td>\n",
       "    </tr>\n",
       "    <tr>\n",
       "      <th>2</th>\n",
       "      <td>126</td>\n",
       "    </tr>\n",
       "    <tr>\n",
       "      <th>3</th>\n",
       "      <td>82</td>\n",
       "    </tr>\n",
       "    <tr>\n",
       "      <th>4</th>\n",
       "      <td>92</td>\n",
       "    </tr>\n",
       "  </tbody>\n",
       "</table>\n",
       "</div>"
      ],
      "text/plain": [
       "   Correct\n",
       "0      112\n",
       "1       73\n",
       "2      126\n",
       "3       82\n",
       "4       92"
      ]
     },
     "execution_count": 2,
     "metadata": {},
     "output_type": "execute_result"
    }
   ],
   "source": [
    "ap_data = pd.read_excel('ApTest.xlsx')\n",
    "ap_data.head()"
   ]
  },
  {
   "cell_type": "code",
   "execution_count": 3,
   "metadata": {},
   "outputs": [],
   "source": [
    "n = len(ap_data)\n",
    "x_mean = ap_data.Correct.mean()\n",
    "x_std = ap_data.Correct.std()"
   ]
  },
  {
   "cell_type": "markdown",
   "metadata": {},
   "source": [
    "## 1-1. Skewness"
   ]
  },
  {
   "cell_type": "markdown",
   "metadata": {},
   "source": [
    "### $Skewness = \\frac{n}{(n-1)(n-2)}\\sum{{(\\frac{x_i-\\bar{x}}{s})}^3}$"
   ]
  },
  {
   "cell_type": "code",
   "execution_count": 4,
   "metadata": {},
   "outputs": [
    {
     "name": "stdout",
     "output_type": "stream",
     "text": [
      "✍ 0.2842877128098202\n"
     ]
    }
   ],
   "source": [
    "skewness = n/((n-1)*(n-2)) * np.sum(np.power((ap_data.Correct - x_mean) / x_std, 3))\n",
    "print('✍',skewness)"
   ]
  },
  {
   "cell_type": "markdown",
   "metadata": {},
   "source": [
    "SciPy provides fundamental algorithms for scientific computing in Python.\n",
    "\n",
    "We will use skew function in scipy to get skewnes."
   ]
  },
  {
   "cell_type": "code",
   "execution_count": 5,
   "metadata": {},
   "outputs": [
    {
     "name": "stdout",
     "output_type": "stream",
     "text": [
      "🤖 0.28428771280982024\n"
     ]
    }
   ],
   "source": [
    "from scipy.stats import skew\n",
    "skewness = skew(ap_data.Correct, bias=False) # If bias is False, then the calculations are corrected for statistical bias.\n",
    "print('🤖',skewness)"
   ]
  },
  {
   "cell_type": "markdown",
   "metadata": {},
   "source": [
    "## 1-2. z-scores"
   ]
  },
  {
   "cell_type": "markdown",
   "metadata": {},
   "source": [
    "### $z_i = \\frac{x_i - \\bar{x}}{s}$"
   ]
  },
  {
   "cell_type": "code",
   "execution_count": 6,
   "metadata": {},
   "outputs": [
    {
     "data": {
      "text/html": [
       "<div>\n",
       "<style scoped>\n",
       "    .dataframe tbody tr th:only-of-type {\n",
       "        vertical-align: middle;\n",
       "    }\n",
       "\n",
       "    .dataframe tbody tr th {\n",
       "        vertical-align: top;\n",
       "    }\n",
       "\n",
       "    .dataframe thead th {\n",
       "        text-align: right;\n",
       "    }\n",
       "</style>\n",
       "<table border=\"1\" class=\"dataframe\">\n",
       "  <thead>\n",
       "    <tr style=\"text-align: right;\">\n",
       "      <th></th>\n",
       "      <th>Correct</th>\n",
       "      <th>z-Score</th>\n",
       "    </tr>\n",
       "  </thead>\n",
       "  <tbody>\n",
       "    <tr>\n",
       "      <th>0</th>\n",
       "      <td>112</td>\n",
       "      <td>0.693603</td>\n",
       "    </tr>\n",
       "    <tr>\n",
       "      <th>1</th>\n",
       "      <td>73</td>\n",
       "      <td>-1.374479</td>\n",
       "    </tr>\n",
       "    <tr>\n",
       "      <th>2</th>\n",
       "      <td>126</td>\n",
       "      <td>1.435991</td>\n",
       "    </tr>\n",
       "    <tr>\n",
       "      <th>3</th>\n",
       "      <td>82</td>\n",
       "      <td>-0.897229</td>\n",
       "    </tr>\n",
       "    <tr>\n",
       "      <th>4</th>\n",
       "      <td>92</td>\n",
       "      <td>-0.366952</td>\n",
       "    </tr>\n",
       "  </tbody>\n",
       "</table>\n",
       "</div>"
      ],
      "text/plain": [
       "   Correct   z-Score\n",
       "0      112  0.693603\n",
       "1       73 -1.374479\n",
       "2      126  1.435991\n",
       "3       82 -0.897229\n",
       "4       92 -0.366952"
      ]
     },
     "execution_count": 6,
     "metadata": {},
     "output_type": "execute_result"
    }
   ],
   "source": [
    "ap_data[\"z-Score\"] = (ap_data.Correct - x_mean) / x_std\n",
    "ap_data.head()"
   ]
  },
  {
   "cell_type": "code",
   "execution_count": 7,
   "metadata": {},
   "outputs": [
    {
     "name": "stdout",
     "output_type": "stream",
     "text": [
      "The most extreme z-scores are -1.64 and 2.23\n"
     ]
    }
   ],
   "source": [
    "minim = ap_data[\"z-Score\"].min()\n",
    "maxim = ap_data[\"z-Score\"].max()\n",
    "print(f'The most extreme z-scores are {minim :0.2f} and {maxim :0.2f}')"
   ]
  },
  {
   "cell_type": "markdown",
   "metadata": {},
   "source": [
    "## 1-3. Chebyshev's Theorem"
   ]
  },
  {
   "cell_type": "markdown",
   "metadata": {},
   "source": [
    "### $P(|X-\\mu| < z\\sigma) > 1 - \\frac{1}{z^2}$"
   ]
  },
  {
   "cell_type": "markdown",
   "metadata": {},
   "source": [
    "At least 75% of the rent values must be between $\\bar{x}-2\\sigma$ and $\\bar{x}+2\\sigma$"
   ]
  },
  {
   "cell_type": "markdown",
   "metadata": {},
   "source": [
    "\n",
    "- cond1 : $X < \\mu + 2\\sigma$\n",
    "\n",
    "- cond2 : $X > \\mu - 2\\sigma$ "
   ]
  },
  {
   "cell_type": "code",
   "execution_count": 8,
   "metadata": {},
   "outputs": [],
   "source": [
    "cond1 = ap_data[\"Correct\"] < x_mean + 2 * x_std\n",
    "cond2 = ap_data[\"Correct\"] > x_mean - 2 * x_std"
   ]
  },
  {
   "cell_type": "code",
   "execution_count": 9,
   "metadata": {},
   "outputs": [
    {
     "name": "stdout",
     "output_type": "stream",
     "text": [
      "The number of data in range : 49\n",
      "98.0% of the rent values are between 61.2 and 136.6\n"
     ]
    }
   ],
   "source": [
    "# ap_data[cond1&cond2] is the data which meets both cond1 and cond2 in ap_data.\n",
    "n_data = len(ap_data[cond1&cond2])\n",
    "print(f\"The number of data in range : {n_data}\")\n",
    "print(f'{n_data / n * 100}% of the rent values are between {x_mean - 2 * x_std :.1f} and {x_mean + 2 * x_std :.1f}')"
   ]
  },
  {
   "cell_type": "markdown",
   "metadata": {},
   "source": [
    "## 1-4. Detecting Outliers"
   ]
  },
  {
   "cell_type": "markdown",
   "metadata": {},
   "source": [
    "Using |z| > 3 as the criterion for an outlier, there are no outliers in this data."
   ]
  },
  {
   "cell_type": "markdown",
   "metadata": {},
   "source": [
    "- cond1 : $X > \\mu + 3\\sigma$\n",
    "\n",
    "- cond2 : $X < \\mu - 3\\sigma$ "
   ]
  },
  {
   "cell_type": "code",
   "execution_count": 10,
   "metadata": {},
   "outputs": [
    {
     "data": {
      "text/html": [
       "<div>\n",
       "<style scoped>\n",
       "    .dataframe tbody tr th:only-of-type {\n",
       "        vertical-align: middle;\n",
       "    }\n",
       "\n",
       "    .dataframe tbody tr th {\n",
       "        vertical-align: top;\n",
       "    }\n",
       "\n",
       "    .dataframe thead th {\n",
       "        text-align: right;\n",
       "    }\n",
       "</style>\n",
       "<table border=\"1\" class=\"dataframe\">\n",
       "  <thead>\n",
       "    <tr style=\"text-align: right;\">\n",
       "      <th></th>\n",
       "      <th>Correct</th>\n",
       "      <th>z-Score</th>\n",
       "    </tr>\n",
       "  </thead>\n",
       "  <tbody>\n",
       "  </tbody>\n",
       "</table>\n",
       "</div>"
      ],
      "text/plain": [
       "Empty DataFrame\n",
       "Columns: [Correct, z-Score]\n",
       "Index: []"
      ]
     },
     "execution_count": 10,
     "metadata": {},
     "output_type": "execute_result"
    }
   ],
   "source": [
    "# ap_data[cond1 | cond2] is the data which meets at least one of conditions in ap_data.\n",
    "cond1 = ap_data[\"Correct\"] > x_mean + 3 * x_std\n",
    "cond2 = ap_data[\"Correct\"] < x_mean - 3 * x_std\n",
    "\n",
    "ap_data[cond1 | cond2]"
   ]
  },
  {
   "cell_type": "markdown",
   "metadata": {},
   "source": [
    "## 1-5. Five-Number Summary"
   ]
  },
  {
   "cell_type": "markdown",
   "metadata": {},
   "source": [
    "We can get Five-Number summary by using min, quantile, max function.\n",
    "\n",
    "However, describe function in DataFrame performs all of them."
   ]
  },
  {
   "cell_type": "code",
   "execution_count": 11,
   "metadata": {},
   "outputs": [
    {
     "data": {
      "text/html": [
       "<div>\n",
       "<style scoped>\n",
       "    .dataframe tbody tr th:only-of-type {\n",
       "        vertical-align: middle;\n",
       "    }\n",
       "\n",
       "    .dataframe tbody tr th {\n",
       "        vertical-align: top;\n",
       "    }\n",
       "\n",
       "    .dataframe thead th {\n",
       "        text-align: right;\n",
       "    }\n",
       "</style>\n",
       "<table border=\"1\" class=\"dataframe\">\n",
       "  <thead>\n",
       "    <tr style=\"text-align: right;\">\n",
       "      <th></th>\n",
       "      <th>Correct</th>\n",
       "    </tr>\n",
       "  </thead>\n",
       "  <tbody>\n",
       "    <tr>\n",
       "      <th>min</th>\n",
       "      <td>68.00</td>\n",
       "    </tr>\n",
       "    <tr>\n",
       "      <th>25%</th>\n",
       "      <td>83.25</td>\n",
       "    </tr>\n",
       "    <tr>\n",
       "      <th>50%</th>\n",
       "      <td>97.50</td>\n",
       "    </tr>\n",
       "    <tr>\n",
       "      <th>75%</th>\n",
       "      <td>112.75</td>\n",
       "    </tr>\n",
       "    <tr>\n",
       "      <th>max</th>\n",
       "      <td>141.00</td>\n",
       "    </tr>\n",
       "  </tbody>\n",
       "</table>\n",
       "</div>"
      ],
      "text/plain": [
       "     Correct\n",
       "min    68.00\n",
       "25%    83.25\n",
       "50%    97.50\n",
       "75%   112.75\n",
       "max   141.00"
      ]
     },
     "execution_count": 11,
     "metadata": {},
     "output_type": "execute_result"
    }
   ],
   "source": [
    "pd.DataFrame(ap_data.Correct.describe()[3:]) # it starts from index 3 because it contains "
   ]
  },
  {
   "cell_type": "markdown",
   "metadata": {},
   "source": [
    "## 1-6. Box Plot"
   ]
  },
  {
   "cell_type": "markdown",
   "metadata": {},
   "source": [
    "✅ **matplotlib.pyplot.boxplot**\n",
    "- This function draws a box and whisker plot.\n",
    "- https://matplotlib.org/stable/api/_as_gen/matplotlib.pyplot.boxplot.html"
   ]
  },
  {
   "cell_type": "code",
   "execution_count": 12,
   "metadata": {},
   "outputs": [
    {
     "data": {
      "image/png": "[encoded data removed]",
      "text/plain": [
       "<Figure size 432x288 with 1 Axes>"
      ]
     },
     "metadata": {
      "needs_background": "light"
     },
     "output_type": "display_data"
    }
   ],
   "source": [
    "# If vert is False, draw horizontal boxes.\n",
    "plt.boxplot(ap_data.Correct,vert=False) # ✅ matplotlib.pyplot.boxplot\n",
    "plt.show()"
   ]
  },
  {
   "cell_type": "markdown",
   "metadata": {},
   "source": [
    "# 2. Measures of Association Between Two Variables"
   ]
  },
  {
   "cell_type": "code",
   "execution_count": 13,
   "metadata": {},
   "outputs": [
    {
     "data": {
      "text/html": [
       "<div>\n",
       "<style scoped>\n",
       "    .dataframe tbody tr th:only-of-type {\n",
       "        vertical-align: middle;\n",
       "    }\n",
       "\n",
       "    .dataframe tbody tr th {\n",
       "        vertical-align: top;\n",
       "    }\n",
       "\n",
       "    .dataframe thead th {\n",
       "        text-align: right;\n",
       "    }\n",
       "</style>\n",
       "<table border=\"1\" class=\"dataframe\">\n",
       "  <thead>\n",
       "    <tr style=\"text-align: right;\">\n",
       "      <th></th>\n",
       "      <th>Fund Name</th>\n",
       "      <th>Fund Type</th>\n",
       "      <th>Net Asset Value ($)</th>\n",
       "      <th>5 Year Average Return (%)</th>\n",
       "      <th>Expense Ratio (%)</th>\n",
       "      <th>Morningstar Rank</th>\n",
       "    </tr>\n",
       "  </thead>\n",
       "  <tbody>\n",
       "    <tr>\n",
       "      <th>0</th>\n",
       "      <td>Amer Cent Inc &amp; Growth Inv</td>\n",
       "      <td>DE</td>\n",
       "      <td>28.88</td>\n",
       "      <td>12.39</td>\n",
       "      <td>0.67</td>\n",
       "      <td>2-Star</td>\n",
       "    </tr>\n",
       "    <tr>\n",
       "      <th>1</th>\n",
       "      <td>American Century Intl. Disc</td>\n",
       "      <td>IE</td>\n",
       "      <td>14.37</td>\n",
       "      <td>30.53</td>\n",
       "      <td>1.41</td>\n",
       "      <td>3-Star</td>\n",
       "    </tr>\n",
       "    <tr>\n",
       "      <th>2</th>\n",
       "      <td>American Century Tax-Free Bond</td>\n",
       "      <td>FI</td>\n",
       "      <td>10.73</td>\n",
       "      <td>3.34</td>\n",
       "      <td>0.49</td>\n",
       "      <td>4-Star</td>\n",
       "    </tr>\n",
       "    <tr>\n",
       "      <th>3</th>\n",
       "      <td>American Century Ultra</td>\n",
       "      <td>DE</td>\n",
       "      <td>24.94</td>\n",
       "      <td>10.88</td>\n",
       "      <td>0.99</td>\n",
       "      <td>3-Star</td>\n",
       "    </tr>\n",
       "    <tr>\n",
       "      <th>4</th>\n",
       "      <td>Ariel</td>\n",
       "      <td>DE</td>\n",
       "      <td>46.39</td>\n",
       "      <td>11.32</td>\n",
       "      <td>1.03</td>\n",
       "      <td>2-Star</td>\n",
       "    </tr>\n",
       "  </tbody>\n",
       "</table>\n",
       "</div>"
      ],
      "text/plain": [
       "                        Fund Name Fund Type  Net Asset Value ($)  \\\n",
       "0      Amer Cent Inc & Growth Inv        DE                28.88   \n",
       "1     American Century Intl. Disc        IE                14.37   \n",
       "2  American Century Tax-Free Bond        FI                10.73   \n",
       "3          American Century Ultra        DE                24.94   \n",
       "4                           Ariel        DE                46.39   \n",
       "\n",
       "   5 Year Average Return (%)  Expense Ratio (%) Morningstar Rank  \n",
       "0                      12.39               0.67           2-Star  \n",
       "1                      30.53               1.41           3-Star  \n",
       "2                       3.34               0.49           4-Star  \n",
       "3                      10.88               0.99           3-Star  \n",
       "4                      11.32               1.03           2-Star  "
      ]
     },
     "execution_count": 13,
     "metadata": {},
     "output_type": "execute_result"
    }
   ],
   "source": [
    "mf_data = pd.read_excel('MutualFunds.xlsx')\n",
    "mf_data.dropna(inplace=True)\n",
    "mf_data.head()"
   ]
  },
  {
   "cell_type": "markdown",
   "metadata": {},
   "source": [
    "## 2-1. Covariance"
   ]
  },
  {
   "cell_type": "markdown",
   "metadata": {},
   "source": [
    "### Between net asset value & 5 year average return"
   ]
  },
  {
   "cell_type": "markdown",
   "metadata": {},
   "source": [
    "### $s_{xy} = \\frac{\\sum{(x_i - \\bar{x})(y_i - \\bar{y})}}{n-1}$"
   ]
  },
  {
   "cell_type": "code",
   "execution_count": 14,
   "metadata": {},
   "outputs": [
    {
     "name": "stdout",
     "output_type": "stream",
     "text": [
      "✍ 55.09443974747475\n"
     ]
    }
   ],
   "source": [
    "n = len(mf_data)\n",
    "xi_x = mf_data['5 Year Average Return (%)'] - mf_data['5 Year Average Return (%)'].mean()\n",
    "yi_y = mf_data['Net Asset Value ($)'] - mf_data['Net Asset Value ($)'].mean()\n",
    "s_xy = np.sum(xi_x * yi_y) / (n-1)\n",
    "\n",
    "print('✍', s_xy)"
   ]
  },
  {
   "cell_type": "markdown",
   "metadata": {},
   "source": [
    "✅ **pandas.DataFrame.cov**\n",
    "- This function computes the pairwise covariance among the series of a DataFrame\n",
    "- https://pandas.pydata.org/docs/reference/api/pandas.DataFrame.cov.html"
   ]
  },
  {
   "cell_type": "code",
   "execution_count": 15,
   "metadata": {},
   "outputs": [
    {
     "name": "stdout",
     "output_type": "stream",
     "text": [
      "🤖 55.09443974747475\n"
     ]
    }
   ],
   "source": [
    "cov_table = mf_data.cov() # ✅ pandas.DataFrame.cov\n",
    "s_xy = cov_table['Net Asset Value ($)']['5 Year Average Return (%)']\n",
    "\n",
    "print('🤖', s_xy)"
   ]
  },
  {
   "cell_type": "markdown",
   "metadata": {},
   "source": [
    "## 2-2. Correlation Coefficient"
   ]
  },
  {
   "cell_type": "markdown",
   "metadata": {},
   "source": [
    "### Between net asset value & 5 year average return"
   ]
  },
  {
   "cell_type": "markdown",
   "metadata": {},
   "source": [
    "### $r_{xy} = \\frac{s_{xy}}{s_x s_y}$"
   ]
  },
  {
   "cell_type": "code",
   "execution_count": 16,
   "metadata": {},
   "outputs": [
    {
     "name": "stdout",
     "output_type": "stream",
     "text": [
      "✍ 0.4156474739623341\n"
     ]
    }
   ],
   "source": [
    "s_x = mf_data['5 Year Average Return (%)'].std()\n",
    "s_y = mf_data['Net Asset Value ($)'].std()\n",
    "corr = s_xy / (s_x*s_y)\n",
    "print('✍',corr)"
   ]
  },
  {
   "cell_type": "markdown",
   "metadata": {},
   "source": [
    "✅ **pandas.DataFrame.corr**\n",
    "- This function computes pairwise correlation of columns\n",
    "- https://pandas.pydata.org/docs/reference/api/pandas.DataFrame.corr.html"
   ]
  },
  {
   "cell_type": "code",
   "execution_count": 17,
   "metadata": {},
   "outputs": [
    {
     "name": "stdout",
     "output_type": "stream",
     "text": [
      "🤖 0.4156474739623342\n"
     ]
    }
   ],
   "source": [
    "corr_table = mf_data.corr() # ✅ pandas.DataFrame.corr\n",
    "corr = corr_table['Net Asset Value ($)']['5 Year Average Return (%)']\n",
    "print('🤖', corr)"
   ]
  },
  {
   "cell_type": "markdown",
   "metadata": {},
   "source": [
    "# 3. Working with Grouped Data"
   ]
  },
  {
   "cell_type": "markdown",
   "metadata": {},
   "source": [
    "To work with grouped data, we need to determine classes as we did in python code #01."
   ]
  },
  {
   "cell_type": "code",
   "execution_count": 18,
   "metadata": {},
   "outputs": [],
   "source": [
    "class_width = 10\n",
    "bins = list(range(60, 151, class_width)) \n",
    "labels = [f'{x}-{x+class_width-1}' for x in bins[:-1]]\n",
    "\n",
    "ap_data['Class'] = pd.cut(ap_data[\"Correct\"], bins, labels=labels, right=False) \n",
    "ap_table = pd.DataFrame(ap_data.Class.value_counts()).sort_index()\n",
    "ap_table.columns = ['fi']"
   ]
  },
  {
   "cell_type": "markdown",
   "metadata": {},
   "source": [
    "✅ **zip**\n",
    "- This function helps to iterate over several iterables in parallel.\n",
    "- https://docs.python.org/3/library/functions.html#zip"
   ]
  },
  {
   "cell_type": "code",
   "execution_count": 19,
   "metadata": {},
   "outputs": [
    {
     "data": {
      "text/html": [
       "<div>\n",
       "<style scoped>\n",
       "    .dataframe tbody tr th:only-of-type {\n",
       "        vertical-align: middle;\n",
       "    }\n",
       "\n",
       "    .dataframe tbody tr th {\n",
       "        vertical-align: top;\n",
       "    }\n",
       "\n",
       "    .dataframe thead th {\n",
       "        text-align: right;\n",
       "    }\n",
       "</style>\n",
       "<table border=\"1\" class=\"dataframe\">\n",
       "  <thead>\n",
       "    <tr style=\"text-align: right;\">\n",
       "      <th></th>\n",
       "      <th>fi</th>\n",
       "      <th>Mi</th>\n",
       "    </tr>\n",
       "  </thead>\n",
       "  <tbody>\n",
       "    <tr>\n",
       "      <th>60-69</th>\n",
       "      <td>2</td>\n",
       "      <td>65.0</td>\n",
       "    </tr>\n",
       "    <tr>\n",
       "      <th>70-79</th>\n",
       "      <td>6</td>\n",
       "      <td>75.0</td>\n",
       "    </tr>\n",
       "    <tr>\n",
       "      <th>80-89</th>\n",
       "      <td>8</td>\n",
       "      <td>85.0</td>\n",
       "    </tr>\n",
       "    <tr>\n",
       "      <th>90-99</th>\n",
       "      <td>11</td>\n",
       "      <td>95.0</td>\n",
       "    </tr>\n",
       "    <tr>\n",
       "      <th>100-109</th>\n",
       "      <td>9</td>\n",
       "      <td>105.0</td>\n",
       "    </tr>\n",
       "    <tr>\n",
       "      <th>110-119</th>\n",
       "      <td>7</td>\n",
       "      <td>115.0</td>\n",
       "    </tr>\n",
       "    <tr>\n",
       "      <th>120-129</th>\n",
       "      <td>4</td>\n",
       "      <td>125.0</td>\n",
       "    </tr>\n",
       "    <tr>\n",
       "      <th>130-139</th>\n",
       "      <td>2</td>\n",
       "      <td>135.0</td>\n",
       "    </tr>\n",
       "    <tr>\n",
       "      <th>140-149</th>\n",
       "      <td>1</td>\n",
       "      <td>145.0</td>\n",
       "    </tr>\n",
       "  </tbody>\n",
       "</table>\n",
       "</div>"
      ],
      "text/plain": [
       "         fi     Mi\n",
       "60-69     2   65.0\n",
       "70-79     6   75.0\n",
       "80-89     8   85.0\n",
       "90-99    11   95.0\n",
       "100-109   9  105.0\n",
       "110-119   7  115.0\n",
       "120-129   4  125.0\n",
       "130-139   2  135.0\n",
       "140-149   1  145.0"
      ]
     },
     "execution_count": 19,
     "metadata": {},
     "output_type": "execute_result"
    }
   ],
   "source": [
    "# Get Mid-point\n",
    "ap_table[\"Mi\"] = [i+(j-i)/2 for i,j in zip(bins[:-1], bins[1:])] # ✅ zip\n",
    "ap_table.head(10)"
   ]
  },
  {
   "cell_type": "markdown",
   "metadata": {},
   "source": [
    "## 3-1. Sample Mean for Grouped Data"
   ]
  },
  {
   "cell_type": "markdown",
   "metadata": {},
   "source": [
    "### $\\bar{x} = \\frac{\\sum{f_iM_i}}{n}$"
   ]
  },
  {
   "cell_type": "code",
   "execution_count": 20,
   "metadata": {},
   "outputs": [
    {
     "name": "stdout",
     "output_type": "stream",
     "text": [
      "Sample Mean: 99.40\n"
     ]
    }
   ],
   "source": [
    "n = np.sum(ap_table[\"fi\"])\n",
    "s_mean = np.sum(ap_table[\"fi\"]*ap_table[\"Mi\"])/n\n",
    "print(f'Sample Mean: {s_mean:.02f}')"
   ]
  },
  {
   "cell_type": "markdown",
   "metadata": {},
   "source": [
    "## 3-2. Sample Variance for Grouped Data"
   ]
  },
  {
   "cell_type": "markdown",
   "metadata": {},
   "source": [
    "### $s^2 = \\frac{\\sum{f_i(M_i-\\bar{x})^2}}{n-1}$"
   ]
  },
  {
   "cell_type": "code",
   "execution_count": 21,
   "metadata": {},
   "outputs": [
    {
     "name": "stdout",
     "output_type": "stream",
     "text": [
      "Sample Variance: 347.59\n"
     ]
    }
   ],
   "source": [
    "s_var =np.sum(ap_table[\"fi\"] * np.power(ap_table[\"Mi\"] - s_mean, 2)) / (n-1)\n",
    "print(f'Sample Variance: {s_var :.02f}')"
   ]
  },
  {
   "cell_type": "markdown",
   "metadata": {},
   "source": [
    "## 3-3. Sample Standard Deviation for Grouped Data"
   ]
  },
  {
   "cell_type": "code",
   "execution_count": 22,
   "metadata": {},
   "outputs": [
    {
     "name": "stdout",
     "output_type": "stream",
     "text": [
      "Sample Standard Deviation: 18.64\n"
     ]
    }
   ],
   "source": [
    "s_sig = np.sqrt(s_var)\n",
    "print(f'Sample Standard Deviation: {s_sig :.02f}')"
   ]
  }
 ],
 "metadata": {
  "kernelspec": {
   "display_name": "Python 3.9.12 ('base')",
   "language": "python",
   "name": "python3"
  },
  "language_info": {
   "codemirror_mode": {
    "name": "ipython",
    "version": 3
   },
   "file_extension": ".py",
   "mimetype": "text/x-python",
   "name": "python",
   "nbconvert_exporter": "python",
   "pygments_lexer": "ipython3",
   "version": "3.9.12"
  },
  "orig_nbformat": 4,
  "vscode": {
   "interpreter": {
    "hash": "a077222d77dfe082b8f1dd562ad70e458ac2ab76993a0b248ab0476e32e9e8dd"
   }
  }
 },
 "nbformat": 4,
 "nbformat_minor": 2
}
